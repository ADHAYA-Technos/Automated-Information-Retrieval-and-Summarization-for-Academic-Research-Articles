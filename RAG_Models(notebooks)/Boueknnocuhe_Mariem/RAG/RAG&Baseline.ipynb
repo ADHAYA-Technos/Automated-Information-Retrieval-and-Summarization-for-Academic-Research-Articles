{
 "cells": [
  {
   "cell_type": "markdown",
   "metadata": {
    "id": "gwMvW01Ahg_N"
   },
   "source": [
    "##RAG"
   ]
  },
  {
   "cell_type": "markdown",
   "metadata": {
    "id": "8_9i2ot_69do"
   },
   "source": [
    "#🔧 Setup"
   ]
  },
  {
   "cell_type": "code",
   "execution_count": null,
   "metadata": {
    "colab": {
     "base_uri": "https://localhost:8080/"
    },
    "id": "5I9Yab_35lWE",
    "outputId": "56be959c-321a-468f-ba46-7041f62dd505"
   },
   "outputs": [],
   "source": [
    "from google.colab import drive\n",
    "drive.mount('/content/drive')\n"
   ]
  },
  {
   "cell_type": "code",
   "execution_count": null,
   "metadata": {
    "colab": {
     "base_uri": "https://localhost:8080/"
    },
    "id": "FM32LCRE-acP",
    "outputId": "bee6742d-d00d-42a4-ae36-79dc69fc31fb"
   },
   "outputs": [],
   "source": [
    "!pip install chromadb"
   ]
  },
  {
   "cell_type": "code",
   "execution_count": null,
   "metadata": {
    "colab": {
     "base_uri": "https://localhost:8080/"
    },
    "id": "pBEx5PaQmjVG",
    "outputId": "5ea35ef4-11bc-4705-9ae1-8ea838b55a36"
   },
   "outputs": [],
   "source": [
    "\n",
    "!pip install rouge_score"
   ]
  },
  {
   "cell_type": "code",
   "execution_count": null,
   "metadata": {
    "colab": {
     "base_uri": "https://localhost:8080/"
    },
    "id": "7gLgtee9_XFE",
    "outputId": "00856cb7-cede-4723-875c-e3d35a40b24f"
   },
   "outputs": [],
   "source": [
    "!pip install -U langchain-community"
   ]
  },
  {
   "cell_type": "code",
   "execution_count": null,
   "metadata": {
    "colab": {
     "base_uri": "https://localhost:8080/"
    },
    "id": "a7Wr9LGo0Dom",
    "outputId": "c6c7162e-43e7-4d4e-d043-8661922fbacb"
   },
   "outputs": [],
   "source": [
    "!pip install --upgrade chromadb"
   ]
  },
  {
   "cell_type": "code",
   "execution_count": null,
   "metadata": {
    "colab": {
     "base_uri": "https://localhost:8080/"
    },
    "id": "I_9A-dCK-blr",
    "outputId": "3359896c-4925-4190-b309-5771d35ba3ec"
   },
   "outputs": [],
   "source": [
    "!pip install PyMuPDF"
   ]
  },
  {
   "cell_type": "code",
   "execution_count": null,
   "metadata": {
    "colab": {
     "base_uri": "https://localhost:8080/"
    },
    "id": "W3zx1xHi9_Sh",
    "outputId": "71963f29-ea81-4155-ceec-355895663f79"
   },
   "outputs": [],
   "source": [
    "import fitz  # PyMuPDF\n",
    "import chromadb\n",
    "from nltk.translate.bleu_score import sentence_bleu\n",
    "from rouge_score import rouge_scorer\n",
    "from transformers import pipeline\n",
    "from langchain.text_splitter import RecursiveCharacterTextSplitter\n",
    "from langchain.embeddings import HuggingFaceEmbeddings\n",
    "from langchain.vectorstores import Chroma\n",
    "import time\n",
    "\n",
    "drive.mount('/content/drive')\n",
    "\n",
    "import nltk\n",
    "nltk.download('punkt_tab')\n",
    "\n",
    "\n",
    "\n"
   ]
  },
  {
   "cell_type": "markdown",
   "metadata": {
    "id": "2UeJ-Ntp7DmD"
   },
   "source": [
    "#📄 Text Processing"
   ]
  },
  {
   "cell_type": "code",
   "execution_count": null,
   "metadata": {
    "id": "ndAhHmzm33qV"
   },
   "outputs": [],
   "source": [
    "def extract_text_from_pdf(pdf_path, chars=1000):\n",
    "    \"\"\"Extract the first `chars` characters from a PDF.\"\"\"\n",
    "    doc = fitz.open(pdf_path)\n",
    "    text = \"\\n\".join([page.get_text(\"text\") for page in doc])\n",
    "    return text[:chars]\n"
   ]
  },
  {
   "cell_type": "markdown",
   "metadata": {
    "id": "5P1eCSj05Xa1"
   },
   "source": [
    "#RAG Pipeline"
   ]
  },
  {
   "cell_type": "markdown",
   "metadata": {
    "id": "gEDdgkc85ghX"
   },
   "source": [
    "1)Document Chunking"
   ]
  },
  {
   "cell_type": "code",
   "execution_count": null,
   "metadata": {
    "id": "f5JpH0rU344o"
   },
   "outputs": [],
   "source": [
    "def split_text_into_chunks(text, chunk_size=512, overlap=50):\n",
    "    splitter = RecursiveCharacterTextSplitter(chunk_size=chunk_size, chunk_overlap=overlap)\n",
    "    return splitter.split_text(text)\n"
   ]
  },
  {
   "cell_type": "markdown",
   "metadata": {
    "id": "yjhb_SBX6BFp"
   },
   "source": [
    "2) Initialize ChromaDB with Embeddings"
   ]
  },
  {
   "cell_type": "code",
   "execution_count": null,
   "metadata": {
    "id": "RU--5jgl5Nuw"
   },
   "outputs": [],
   "source": [
    "def initialize_chromadb(persist_dir, collection_name):\n",
    "    embeddings = HuggingFaceEmbeddings(model_name=\"sentence-transformers/all-MiniLM-L6-v2\")\n",
    "    return Chroma(persist_directory=persist_dir, embedding_function=embeddings), embeddings\n"
   ]
  },
  {
   "cell_type": "markdown",
   "metadata": {
    "id": "am1lq37M6Kle"
   },
   "source": [
    "3)Add Chunks to Chroma\n"
   ]
  },
  {
   "cell_type": "code",
   "execution_count": null,
   "metadata": {
    "id": "vK0WAnG-5QQP"
   },
   "outputs": [],
   "source": [
    "def store_chunks_in_chroma(chroma_db, chunks):\n",
    "    for i, chunk in enumerate(chunks):\n",
    "        chroma_db.add_texts(texts=[chunk], metadatas=[{\"chunk_id\": i}])\n"
   ]
  },
  {
   "cell_type": "markdown",
   "metadata": {
    "id": "PXc4Jrfo6Q9V"
   },
   "source": [
    "4) retrieve Relevant Chunks"
   ]
  },
  {
   "cell_type": "code",
   "execution_count": null,
   "metadata": {
    "id": "t0CRKGIu5TLD"
   },
   "outputs": [],
   "source": [
    "def retrieve_chunks(chroma_db, query, top_k=5):\n",
    "    return chroma_db.similarity_search(query, k=top_k)\n"
   ]
  },
  {
   "cell_type": "markdown",
   "metadata": {
    "id": "YvFDef5Q6VAa"
   },
   "source": [
    "#Summarization"
   ]
  },
  {
   "cell_type": "code",
   "execution_count": null,
   "metadata": {
    "id": "FirDH6JQ6UOq"
   },
   "outputs": [],
   "source": [
    "\n",
    "# List of models\n",
    "models = {\n",
    "    \"facebook/bart-large-cnn\": \"BART\",\n",
    "    \"google/pegasus-large\": \"PEGASUS\",\n",
    "    \"allenai/led-base-16384\": \"LED\",\n",
    "    \"facebook/bart-large-xsum\": \"BART + Longformer hybrid\",\n",
    "    \"Salesforce/ctrl\": \"CTRL\",\n",
    "    \"microsoft/prophetnet-large-uncased\": \"ProphetNet\"\n",
    "}\n",
    "\n",
    "# Function to select model\n",
    "def get_summarizer(model_name):\n",
    "    if model_name in models:\n",
    "        return pipeline(\"summarization\", model=model_name)\n",
    "    else:\n",
    "        raise ValueError(f\"Model {model_name} not found in available models.\")\n",
    "\n",
    "# Summarization with dynamic model selection\n",
    "def summarize_with_model(query, context_text, model_name=\"facebook/bart-large-cnn\"):\n",
    "    summarizer = get_summarizer(model_name)\n",
    "    input_text = f\"Query: {query}\\nDocument: {context_text}\"\n",
    "    summary = summarizer(input_text, max_length=150, min_length=50, do_sample=False)\n",
    "    return summary[0][\"summary_text\"]"
   ]
  },
  {
   "cell_type": "markdown",
   "metadata": {
    "id": "Hvsz1VOe6fzm"
   },
   "source": [
    "#Evaluation"
   ]
  },
  {
   "cell_type": "code",
   "execution_count": null,
   "metadata": {
    "id": "m1sdEpsj6iQm"
   },
   "outputs": [],
   "source": [
    "def compute_bleu(reference, candidate):\n",
    "    return sentence_bleu([reference.split()], candidate.split())\n",
    "\n",
    "def compute_rouge(reference, candidate):\n",
    "    scorer = rouge_scorer.RougeScorer(['rouge1', 'rouge2', 'rougeL'], use_stemmer=True)\n",
    "    return scorer.score(reference, candidate)\n"
   ]
  },
  {
   "cell_type": "markdown",
   "metadata": {
    "id": "I0Hj86dY6mUx"
   },
   "source": [
    "#Full Evaluation Pipeline"
   ]
  },
  {
   "cell_type": "code",
   "execution_count": null,
   "metadata": {
    "id": "yqD2_sSa6wrr"
   },
   "outputs": [],
   "source": [
    "def run_rag_pipeline(pdf_path, query, chroma_path, collection_name, model_name=\"facebook/bart-large-cnn\"):\n",
    "    reference_summary = extract_text_from_pdf(pdf_path)\n",
    "\n",
    "    chroma_db, _ = initialize_chromadb(chroma_path, collection_name)\n",
    "    rag_results = chroma_db.similarity_search(query, k=3)\n",
    "    context = \" \".join([doc.page_content for doc in rag_results])\n",
    "\n",
    "    if not context.strip():\n",
    "        return \"No relevant content retrieved.\"\n",
    "\n",
    "    summary = summarize_with_model(query, context, model_name)\n",
    "\n",
    "    bleu = compute_bleu(reference_summary, summary)\n",
    "    rouge = compute_rouge(reference_summary, summary)\n",
    "\n",
    "    print(\"\\n🔷 RAG Model Performance:\")\n",
    "    print(f\"   🟢 BLEU: {bleu:.4f}\")\n",
    "    print(f\"   🟢 ROUGE-1: {rouge['rouge1'].fmeasure:.4f}\")\n",
    "    print(f\"   🟢 ROUGE-2: {rouge['rouge2'].fmeasure:.4f}\")\n",
    "    print(f\"   🟢 ROUGE-L: {rouge['rougeL'].fmeasure:.4f}\")\n",
    "\n",
    "    return summary"
   ]
  },
  {
   "cell_type": "markdown",
   "metadata": {
    "id": "DZAviEYlHXgR"
   },
   "source": [
    "#Testing"
   ]
  },
  {
   "cell_type": "code",
   "execution_count": null,
   "metadata": {
    "id": "Z-Pw7ATo-q1m"
   },
   "outputs": [],
   "source": [
    "# ==== Parameters ====\n",
    "pdf_path = \"/content/drive/MyDrive/Data/38_1612851.pdf\"  # Example path\n",
    "query = \"Summarize this paper in 200 words.\"\n",
    "chroma_path = \"/content/drive/MyDrive/VectorDB_Embeddings\"  # Where to persist Chroma\n",
    "collection_name = \"ties_collection_emb\"\n",
    "\n",
    "# ==== Step 1: Extract + Chunk Text ====\n",
    "raw_text = extract_text_from_pdf(pdf_path)\n",
    "chunks = split_text_into_chunks(raw_text)\n",
    "\n",
    "# ==== Step 2: Create Vector Store & Store Chunks ====\n",
    "chroma_db, _ = initialize_chromadb(chroma_path, collection_name)\n",
    "store_chunks_in_chroma(chroma_db, chunks)\n",
    "\n"
   ]
  },
  {
   "cell_type": "code",
   "execution_count": null,
   "metadata": {
    "colab": {
     "base_uri": "https://localhost:8080/"
    },
    "id": "zdhi-ePfGoVa",
    "outputId": "23839c3f-98a1-4195-d000-de34675a0945"
   },
   "outputs": [],
   "source": [
    "# ==== Step 3: RAG Retrieval + Summarization + Evaluation ====\n",
    "\n",
    "summary = run_rag_pipeline(pdf_path, query, chroma_path, collection_name, model_name=\"google/pegasus-large\")"
   ]
  },
  {
   "cell_type": "code",
   "execution_count": null,
   "metadata": {
    "colab": {
     "base_uri": "https://localhost:8080/"
    },
    "id": "DzAGq9hiHNgB",
    "outputId": "d068f06d-aa79-40d7-d9f6-bf22abc9c3af"
   },
   "outputs": [],
   "source": [
    "summary = run_rag_pipeline(pdf_path, query, chroma_path, collection_name, model_name=\"allenai/led-base-16384\")"
   ]
  },
  {
   "cell_type": "code",
   "execution_count": null,
   "metadata": {
    "colab": {
     "base_uri": "https://localhost:8080/"
    },
    "id": "qoRa-T0VErSF",
    "outputId": "76ed132c-18dd-4d9c-88d3-b6cceba4987e"
   },
   "outputs": [],
   "source": [
    "# ==== Step 3: RAG Retrieval + Summarization + Evaluation ====\n",
    "\n",
    "summary = run_rag_pipeline(pdf_path, query, chroma_path, collection_name, model_name=\"facebook/bart-large-cnn\")\n"
   ]
  },
  {
   "cell_type": "markdown",
   "metadata": {
    "id": "DeOY89t09xs1"
   },
   "source": [
    "#Processing Multiple PDFs"
   ]
  },
  {
   "cell_type": "code",
   "execution_count": null,
   "metadata": {
    "colab": {
     "base_uri": "https://localhost:8080/"
    },
    "id": "vhQczYGr5Bmb",
    "outputId": "ee232605-896e-4e1a-d69e-2346032a9df6"
   },
   "outputs": [],
   "source": [
    "import fitz\n",
    "from langchain.text_splitter import RecursiveCharacterTextSplitter\n",
    "from langchain.embeddings import HuggingFaceEmbeddings\n",
    "from langchain.vectorstores import Chroma\n",
    "from transformers import pipeline\n",
    "from transformers import pipeline\n",
    "from nltk.translate.bleu_score import sentence_bleu\n",
    "from rouge_score import rouge_scorer\n",
    "import torch\n",
    "\n",
    "\n",
    "# ==== Parameters ====\n",
    "pdf_files = [\n",
    "    \"/content/drive/MyDrive/Data/38_1612851.pdf\",\n",
    "    \"/content/drive/MyDrive/Data/39_3323796.pdf\",\n",
    "    \"/content/drive/MyDrive/Data/40_568165.pdf\"\n",
    "]\n",
    "\n",
    "query = \"Summarize this paper in 200 words.\"\n",
    "chroma_path = \"/content/drive/MyDrive/VectorDB_Embeddings\"\n",
    "collection_name = \"ties_collection_emb\"\n",
    "model_name = \"google/pegasus-large\"\n",
    "\n",
    "# ==== Processing Multiple PDFs ====\n",
    "for pdf_path in pdf_files:\n",
    "    print(f\"\\nProcessing: {pdf_path}\")\n",
    "\n",
    "    # Step 1: Extract + Chunk Text\n",
    "    raw_text = extract_text_from_pdf(pdf_path)\n",
    "    chunks = split_text_into_chunks(raw_text)\n",
    "\n",
    "    # Step 2: Create Vector Store & Store Chunks\n",
    "    chroma_db, _ = initialize_chromadb(chroma_path, collection_name)\n",
    "    store_chunks_in_chroma(chroma_db, chunks)\n",
    "\n",
    "\n",
    "\n",
    "\n"
   ]
  },
  {
   "cell_type": "code",
   "execution_count": null,
   "metadata": {
    "colab": {
     "base_uri": "https://localhost:8080/"
    },
    "id": "rowzXval-sbv",
    "outputId": "858c622b-62f9-4621-f6a6-07e86c0c0a9f"
   },
   "outputs": [],
   "source": [
    "# Step 3: RAG Retrieval + Summarization\n",
    "summary = run_rag_pipeline(pdf_path, query, chroma_path, collection_name, model_name=\"google/pegasus-large\")"
   ]
  },
  {
   "cell_type": "code",
   "execution_count": null,
   "metadata": {
    "colab": {
     "base_uri": "https://localhost:8080/"
    },
    "id": "ijoHkiik9g4j",
    "outputId": "d0116056-1d6e-441a-89dd-abeb5f10c85e"
   },
   "outputs": [],
   "source": [
    "summary = run_rag_pipeline(pdf_path, query, chroma_path, collection_name, model_name=\"allenai/led-base-16384\")"
   ]
  },
  {
   "cell_type": "code",
   "execution_count": null,
   "metadata": {
    "colab": {
     "base_uri": "https://localhost:8080/"
    },
    "id": "WFch-xXo-5h0",
    "outputId": "7cfb9812-9f69-4d92-e9b8-fa13638add03"
   },
   "outputs": [],
   "source": [
    "summary = run_rag_pipeline(pdf_path, query, chroma_path, collection_name, model_name=\"facebook/bart-large-cnn\")"
   ]
  },
  {
   "cell_type": "markdown",
   "metadata": {
    "id": "ErffHzo1h6qu"
   },
   "source": [
    "#baseline model"
   ]
  },
  {
   "cell_type": "code",
   "execution_count": null,
   "metadata": {
    "colab": {
     "base_uri": "https://localhost:8080/",
     "height": 1000,
     "referenced_widgets": [
      "dc9c50a0ebca4688baa17ae50f173f0a",
      "017522383dd440988cf6a6b9e8b7e4f1",
      "badd0044cefb45ddba925627faab095e",
      "c08e650ae0b14112bcc642f86f26e927",
      "7c7a9379f2a741ee801f1fb031ab06b7",
      "8d676fd6a1004f9aac3ae983aa95c635",
      "8ab22e5f70ae497b830a49a3fbac4e5b",
      "072c5ef9d53f4688977da51a83c929d7",
      "71044c5a31b0414986e87b8ede86c3f6",
      "90d0af28caf341bc94c14a1875607811",
      "5d14454a445248e28ec6378354c1078f",
      "d289f3bb8b5147c9b81c0c21400e5f9f",
      "96f40c2e1154442ca5961a6cb165b9d6",
      "b5956306fc8e4030be6a63bc00255233",
      "b7d1d6e4d8924700ad9c430082483da2",
      "dfddbc28902446c9b9018936d4c10847",
      "bcaa80aac1de4de1a3d093d14a3e4c5d",
      "b8dc0cec736c41389ab8a066de93e0e4",
      "e71c72354abe4069981c3b12cb002290",
      "fb63d2c0e8704cd2b2bb3abad755969b",
      "ef109ddbdcd6480d864b4f961fbdafff",
      "efea1ea7b6424679b5cd63fe4ead498e",
      "7cf52dbb530e488b9d444ce35f5489ba",
      "8bf3e84f283a41b3b63abb69652adc24",
      "491e716d5c9f4d8abe15b25fae614dd8",
      "52e79cd7ea4246bdb66879e60358f57c",
      "8b04c35e6d5b4525ae5a95d6a88f6e7f",
      "679295e52e224585b58662dd293912a5",
      "bc944eb7bd5f4f0f9b076afdf54e6cad",
      "0639c436bc6f4f2e8fe78bd52703a545",
      "96edab88f34a44a09f4632efd03a94c7",
      "aa3992dfe482410f83f1b2e250616251",
      "ae967df93eb1450988f88a4f9bb31cf5",
      "415fdfb77a8945d0ab0f063ac7d10af7",
      "1163992c0acf4c6b9c7dd0687d2a1490",
      "c85d3c6657d24df7a9f2b543b06eca3e",
      "84d95a64383b434e86ca662f4bead00d",
      "8f7c0c188c3f41b4a9677a6664820dde",
      "99e709af1ea04a99a63f6a06f5a34505",
      "9faff48d60744ee495620a57ab13c3ca",
      "dc0c16b51eed4e3c96ad1f12d8e71bae",
      "ecd4dabb3b9a4a7f99289fff71c10b12",
      "2dbe2e0f602b47c1ae11d97104935a56",
      "17312ee51b9f4a208f59342228c38743",
      "c4a1be4abb924e149168a630acc2f48a",
      "eb7869b5c8514eac87687c8062334281",
      "d6177d0c12494636b0a97b350adf74f7",
      "b5fd95ff79fe4e0983f327986d229dc0",
      "50590d764ebf4cb9896cb6b8a8ba08e0",
      "980cbbbe8d6b481b8db60f8f52999e74",
      "133141fc3bee4186b8933b26de43a3f8",
      "646cdebd36f34017b7ac79b4e211890c",
      "3792a5d6978e416394de211cf52d8eb7",
      "0a79b04639d54546b52876c4e487c98f",
      "a895e624878a4ae384fcf349e273056b",
      "21833f85c4244099a7f36ef27f8d9ab7",
      "248a8073f31e4ff59ba739e4e7ae0de5",
      "15f3d4c527764344bd0736e5d29ddd6b",
      "1ae117f816634cca9ad25c8486e4cfec",
      "a398c3a7dddc49a7a15081e10abe2571",
      "9eb8c83a7cdf4192a171c21a3f586444",
      "b8d1f0fa029f426091be08bab278a6ef",
      "1f28a8a4b0604030ac1b6bfe6df8f66b",
      "fe53e3a0871e4a23986be6dcefc9eae6",
      "fcb2b10a50304f759ed44bf06b6d76d1",
      "4712f6c2425141958d9dbb69587e1e37",
      "bbae0df64f644e6090990e969b3d6dff",
      "1646e6ac506a458e833cf184bc18a082",
      "05faf90422b74f42a162a281e67f3b37",
      "841b6b3a53974563a30d368fe96bef94",
      "9de1d49de1cd4ffe98f70f800b90211b",
      "ad42d989d67f4254b87a65c5de7d303e",
      "74535ccfae584c518c6c730cd4a045a2",
      "7ce3827cd6e9428baad9a2dcf72a4f18",
      "06d235c503f04894975eeb3e07f6985b",
      "521bb9d4fe984af0ae7a6494057156d8",
      "1defdee049df4d7191e3d0e1d6ce0d28",
      "baf15f14b47e4c6eacf45efdbb996896",
      "2f4334d6abb7423fb0663ba3eca2d9dc",
      "cb47f3f327f74450887269ffd048480a",
      "01b65def0fcf4399acaec04286d27296",
      "f598652b9d30468cb9d293ea7b7d1561",
      "b763bead0f324df09fd7190e1446e102",
      "7d34d6090b54410b8120c9def1f950fe",
      "d7db3e9ce7e241dc84fc3990af792645",
      "781d8304138a4872a70699b0ea9314ef",
      "b460187650554b3c84ee5f79118d7dd9",
      "6243505d40274778bcdaf8c62a8533ec",
      "4329341881984eedb0baa27fa09733da",
      "b7dd5f7825704fd893fa32be7cb852ec",
      "3bd85c0849ce48c5935366e72b094489",
      "1bda8fafb0244ac2b24a9d6eee53f665",
      "efa2282ac26a418592c8b1e46be2822e",
      "32b476e40eec4dcdb149d310f3d3586b",
      "42d51f44b6f94f6787ed2854ce4fd163",
      "7864a5cc87a648c7a5fa0ed54651f21f",
      "f9ea52054e864ff1b476c0fbe8c07001",
      "1d1b728c4295401598325afcfd132aed",
      "d63b979277094dfd9ed40be10076f977",
      "12608e3cb1cc42b384d24353c80263a8",
      "440bc304a8064610825d3f456d20ddc6",
      "5e79f6b473544a44baca59b0fc4dcfb4",
      "8c1d5d0216884a37a82ce9840fccdc6d",
      "933ffbe7a6824a72a9b5d499c0342eb0",
      "9e95ed91af5643b7bb4c40b503e67319",
      "a6e71baf7c3945ffb5641da13b0b4cad",
      "770b3a6824584a31a8ece1d2b5d2bde5",
      "3da7f434d0884b0aa2b73be4b771153b",
      "81c7ed518a684fd88b6c356f564d2fda",
      "e104c42c26264973b898ec569151f367",
      "cc1da9b60cd54a388c68e863c8b1abc1",
      "13b1525fc37843d4b29c422c1c488dd4",
      "fd7215a1f3b04d12b3f8198c452c9101",
      "70c1f679d89c40cbae133093338d1983",
      "832e7452e90544bb98cec9573f203fd3",
      "12b21da608ec4418a40e40071648d268",
      "6aab2982462a409c928b53e4f29a2065",
      "f67fd1bbccc541688d22be922ebf3a37",
      "2ef2a7d75f6543d0a01b3e5d550a6943",
      "266ceabafdf34651a629397aaaace54a",
      "8e43ba76172c40ee80ef2b20f219b631",
      "aaf0d96acb8c40a2a4c3ec3d06098371",
      "6b0e09856e424211b17c0688948dec4f",
      "2c2c0db1f93a4ad8ac09c3fd15c38cc2",
      "50d077c0ceb6473697ee957d239d029a",
      "717690059a02405a9aa76c3559bed55d",
      "675381abf41349f69e75da66945d6371",
      "89591359df934d30a0b453919498bec7",
      "8d484ffe2a7f413b972807b4b700831b",
      "95122d58f58e4aafbd7a21561d7265c7",
      "3a0ca316505a45008c2273560a8cb29f",
      "4657f86442024d078fcb691d8bff2b7c",
      "34bc9b44aec94f359e1ecfc1a79ea8ee",
      "3ac6e9ad4d22445c9b44facc4f1b5b1d",
      "74291721b52645778e8984fe130d43ce",
      "bf5429c2ccf0489e8f2ea5bfb30ebc0b",
      "cef4e5c5a9654a409d1ec5cce6365167",
      "e73ef1452b9e41849c5003e3d07fec3c",
      "fc311db4f67d4ecfae22ff5d6a349fa3",
      "d77b64b974444c85b9d2abc5e2f5eadd",
      "3f5643f81b2c42e2aeff9da3fe86305b",
      "61b2d0ccfccb45a18949722a0c1eb503",
      "56ef986619fc457da961972311b66cf0",
      "a7910613f62b4e1782b3300ce89d9fd9",
      "ce437b73c8b149c6b53884c995575b1c",
      "0d6e2735651948538e86ffab00f561a1",
      "4b65945da41c4f2bbd6c997dd021f269",
      "22393b21b4e542b8b4bdf5292baf1695",
      "2556d64f01854b6d942488a7137c148d",
      "d11a1c00f3254e4bb4c7bd542844df8c",
      "b9922fb549024e57bbfb45e90db71a48",
      "66262cbcebf24618be6f5d5a51d7117c",
      "2d8e5b863bc641de903d159d51754fae",
      "15b37533d15e4f4f84bacdbb4eda738b",
      "ffdc333f92824918b5ba6615d6c4a746",
      "250ffd053caa4c2b888c2c7682e1311a",
      "1c4dd942167e4ba3b7c1a86e64e209ec",
      "315ad383a22e441caa62076971fd28f8",
      "a71628070a07422ab1ee381936be0f82",
      "84d1390da52b451a80ada02b282dffd1",
      "53dd28c5f4e64c2aa6a22bd1faeccefa",
      "95919e9bfe5f442087ee879568faec4a",
      "f548e499d69f47a69efce17ecf88b8ce",
      "6433b400ced742f8892e56c34e091e54",
      "826d3ee1c4e94c328ace9f95cf7f1317",
      "39b6e977eab14f9782f6e7c9b00e7610",
      "db2fede51eaf4a3aa7994f599e92c760",
      "defc0d747cc140d0a5b3ee1072299003",
      "3209e57cf3674904bac4cbb8d0c6df66",
      "f8d9991560ea4841b7f52389ffacccb9",
      "ff46703e5a3f48468137f621f93a40e1",
      "80668b642ff24a809608e44e511f6d42",
      "9b63f5eb774d4fddbd7fd6ddf3f928cc",
      "1cc5e8ccbcfb4c28bb6bec02e12e2010",
      "e295ddc39df248468a2dbc2b9fcdc51d",
      "ffcb672fdaf744c991307698cba5722f",
      "428d9897269b436e9fd514492dde8215",
      "eb1ed21ea7b5401f86327011226b339f",
      "b1c2326342a54444b892e8cc11351289",
      "c49098c9cbb749f6bed1a2b3b676cbb4",
      "c047abe7417c4db4a052d2e0af865eca",
      "898ac5388112456c8af496c48871bb98",
      "164315221a904d39b0f88d9d348acdd0",
      "ea56433f21044e41866165427340da36",
      "969115f8aa0a4b7fb1d636074913f14f",
      "de85239cf2494792985707d1315b2f06",
      "a8ca71928e7c421e82725afc53f94929",
      "f77ee4d2bd3d48a7a61b1415b227bf27",
      "21704471e9b8422a96154da5852b492c",
      "da08f7c445384893a967d81befd5f6b8",
      "3ac0af1e97794800b7db4af056413631",
      "b62a22a9d2b147a5b65a283063e28349",
      "7772d24fee7844e29ef0829cf1fecd08",
      "4e8f06d429444ef7826b2d03552a9cb9",
      "2feffe7f2fe64fd08c7b736a7b1a4ec0",
      "865f5524928045bcbd609835a3895147",
      "525f76948b5d4b88be2d8c48c312c545",
      "83ce388727a448e195ca55e6983192e1",
      "e1aac6fd44c942299c6555a9f8de69fc",
      "7a0378d37b7f406c8d547a1f7fea147d",
      "50b6b162a2674600843710e41d7e6eb9",
      "2b1477b2d1d048fe95c29c2bce3d86e6",
      "3ce38cd5811f4c2a8118cf0cbc64ed20",
      "75f462c74a0e4acf8e74bf53817f2c32",
      "1143aa651d864e389d6598c49d0ec363",
      "3228968972cb42789c3f81f2c80d857d",
      "53ddb30ec75745c3adc5365e09b76588",
      "6a011e1d67b440a189ebe75e9e08d9a1",
      "7700c358c7c14bafbc1192d1bfd933db",
      "7f6aa82b710a41379b058f8368c2f550",
      "b3ad199377fd44818f30f48fe4b4ca0c",
      "1c556325d49a45b08c94432a9d9c5793",
      "fe7869e9ce0743f4a316ae66ee180914",
      "7664f67a37bb426cb5f62169d4596756",
      "693e0313c655459ebb08573dfa752310",
      "d6378ab9cd684158b10c686f6ff50a59",
      "ae37ebf0454e4571b200844826abd4c0",
      "f5d34a6107d7444bbecdc1a9ceb7cc36",
      "0cff18c0e3ef4e698b42e6e4fb3a0009",
      "b425ec100d764f99b7f89326e5801aea",
      "b16ad9e05bda4dd6abb85911f66406ae",
      "47a412eade22474ebddac00d33c3aa37",
      "ceca89d2596d4fbf951fb5d24eec6260",
      "bd06b181abe945678e2a25ebbe2182ea",
      "acdf2abfda0a4c1d8111e867ad9e43d6",
      "53fecaf6a8404309a90169578c941831",
      "4db337008d1949f5b33d3869944a9ad8",
      "d29524979f5b4cc887e0a827d1f0396c",
      "971812f40bc3483eb600f95bd903407c",
      "a4aa12545dca47258fd19727f5c01a40",
      "4caff45ba10445398b650ade1e260cf0",
      "b9d3f2b232a64014900bcf0afb70ab0c",
      "881a6fd2093e45e08b7d5c328577312c",
      "85233c5470fb4d839867394ffcabfde8",
      "33fd3b40109044e2b721530371980a03",
      "bbd73b76cad147e99638decf88774b5e",
      "3d459245241641fba3d9a070bf5b1cd0",
      "458f1e1f07374ecc8875f76aa05ba018",
      "9f7e4b9b8034477fb5c95a36fcefc1ff",
      "5daaa9f857e2439d9160ce3e7c8cf958",
      "281f8bae69f64893b24c4a956a161ea6",
      "6d2de6fe6b6642d198345381edbc0c8d",
      "375ea8b2064449708642ac50563c3dca",
      "2e91971be117494bac297698371a5199",
      "78ed0f8f31ea435dae3775d3fa9b111f",
      "c611a530f1e646b9a20a998100e47009",
      "00323b6697574f85b05a30398878b863",
      "87bb3c46519e4d4894d6ffc5c7725be3",
      "c3663b59bb964fb2b2b17f5dd04dc37b",
      "78c091d05769469cb2e1b7a769c63d02",
      "4a7c272af5994d929fe9a4b1d11e414c",
      "deb70fc3b70844f58e3173ade910ded6",
      "b98e95988b224320a7f7e82456379f96",
      "b8616da2328d49588653e8f00deec0fe",
      "e163b831a29b49b4964d9791d8120f75",
      "7773a41676554da0a32800fb06961a6c",
      "460248f5c95d4e6db432a4969f72dce5",
      "daf5d7b221b64b46bcc2728be6136080",
      "2262e2cafa3a4350ab84f58a3a7248a5",
      "5df9ec60262745a6adcc3a6d3372726f",
      "5a7ca460e24949739ebe0333c67c12a3",
      "662a8c9c2bbe4ecd85142fbad16dd316",
      "bbb7322b0ae34b688ac8fd86e9162754",
      "5711900ee7074c7b8bf594963a8c57ee",
      "979bad7e991b4c28b0ada588c08af25d",
      "9af12e5e53834f7fb14473b1ea82e733",
      "c1dc192020f043c184c03a15c68d596b",
      "7d22a8ad495a498388f412c1f969748e",
      "3ebc287db25a4f86a144052d37ff7cf4",
      "5db737474ce540ceb3739809ebe85dac",
      "6706763358984da880d87922db38540d",
      "6784b15aeb7b4eae92abf5320a1db52b",
      "3b00b0638d6a4586b3dfeef987365852",
      "36604ec5c68d4e22bc509884be976948",
      "59b358e35299493b99aab0468be06541",
      "8df469233cb34779b267a17b145d1ca8",
      "c278d78145094cee9edd0c26e122a38e",
      "7094e796c42a469aa6419f5c0f1dae66",
      "9deeae90af2a4b4ba45b9ce02e4953ae",
      "1e041524f1014faa862946cee04d8988",
      "1a3c5b317283475dbbeaa0ca6147489f",
      "100efc9246ed4fdda71c2ecd6674be94",
      "dc4237a41d3147648384776fdeb9492c",
      "753d20439cba4a73b716a45b7275851a",
      "4f019e6cf5234462842eb662ad5cde78",
      "b1e78f8b5cf149c3ad19e23a7329d19b",
      "eb61e34d355d4856af20ec6ee71ab7e3",
      "b845ecdecb52461a9369bb229a834684",
      "2867ae2072d340cb8291b80354b47e95",
      "57589a6300a24666ac8d3a45de6fe0d1",
      "77e0b62b75074f9686f0f763f04703d6",
      "1cf41635cf534247b70060f55e2476f6",
      "e20d0d2b9315480994f3a6c321bd3913",
      "645fef87e961416884e7f6cbf1f51bd2",
      "7e28c5322d5a42fbb6778b1efa597b5c",
      "eae96717ca6e402490404dc176a38bb7",
      "a76fcca32cb14ebaadefa61510422982",
      "85f80ac6c3914a1d9bae3d8c3ba3e8cc",
      "011337c6c32d4cd7b491cb28a1db65c4",
      "9ff89b3b55d94c3194294f0c5555d204",
      "e4a0af57491b4a4f99e937578040b27c",
      "768ddc45384f4aa785262192f72dba6b",
      "36eccf77ae164d10a2cc173e4ba6034a",
      "27bc0743bda34138a84f9650178aac07",
      "c95a89cfba9948e48e9623a00233e37f",
      "2e9071c3b1a943999aeb6db491eab8af",
      "2cbcbaa79589498cae62edb310ce516e",
      "6fc79aa317964ef9a63cc7d3b6cf09cf",
      "becd03b19b40409bb82d0fc0ca18344e",
      "d22b232e04804580850051ed909f54ff",
      "38f4324a53cc4eaf98c175774c59166f",
      "c18555f70c984518ad6d0b8bbcbfeffb",
      "5294e5c4df184b68bdbac79b0257762a",
      "28df251a12ff47978b6cd5d8b0adc534",
      "7d8d6fb5ae0641069374e81e2921d07b",
      "10d756de584744109980401ec5926ee7",
      "fd70cebfa1be464cb0e2987da0a0a3f7",
      "32368bfd837f4f2eb1c6aaca612ad220",
      "f7fbbaaa2b764fbcbc96a19bde419f59",
      "05782a15d5194fd187ac0962e53f1823",
      "a3e9521552a945fbad7d8a13fb33a081",
      "c70c6dc77df94f73aec9ee648f95e85b",
      "4e7a290ef400489aa2fe76b5dfec1aff",
      "4b664baf1886444fb1632e72524ed09f",
      "cdffb4c54cab4e2ab50a9c4f7ae1a000",
      "db033c6469814629bc0d41c44669b9bf",
      "17b24cb728d24a4aa4accf8324f2ee78",
      "e4fd11b2dc8f463aa56c5657ce2b49e4",
      "0ded3fb6524741a4be50c375c18f9df3",
      "93c821571f58476b8fc6631a3eaef964",
      "b88e09756b384ddaa559f8e8f08662e1",
      "1294f1d18e414d4a8964c22a13b5f83c",
      "4aeca3ce4e61446dabf1121a438587b4",
      "e2384132ade948a1819cb38491444c2e",
      "1f966bf7681e439b9d89b57abf93924b",
      "e0a4dd4ce3d8440da2539a8bc18a466c",
      "d45d4afb8a7945a0996f58611ee46f7c",
      "363339fe6da74ad6b1526e5abd1fbd2b",
      "7631310e90af44a0abe06a3a32f8993d",
      "75c6e4d6427d426bb53b93b89aa47c90",
      "bc62aca7ad714cea81a82384a27fbfdd",
      "b22bc188dfda48188c471bfb26232e3f",
      "de511fc6487649c0888c3e54ed4dd120",
      "be56440aa68e429fa846c4c45cfa7db3",
      "4b3343d8848e4e968c92a4159184ea9d",
      "5c2a59dbbf3c43a086498a6d82b93efe",
      "cb08746bc7df4e538cc95cc034d414da",
      "28efa709154b47d8aca3d63411a05e9c",
      "b18f404c0ab3441db012ebe818b65a16",
      "b37c3842feef4640957896814a008d84",
      "faa591a2234d4a0fa2468a36cd2c298d",
      "fedecbd5578a454c8f7ca7f84896c337"
     ]
    },
    "id": "SkfnJdjYxBB4",
    "outputId": "5c97c855-6edd-4155-f541-d3513623a309"
   },
   "outputs": [],
   "source": [
    "from transformers import pipeline\n",
    "from nltk.translate.bleu_score import sentence_bleu\n",
    "from rouge_score import rouge_scorer\n",
    "import torch\n",
    "\n",
    "\n",
    "# ✅ Metric functions\n",
    "def compute_bleu(reference, candidate):\n",
    "    return sentence_bleu([reference.split()], candidate.split())\n",
    "\n",
    "def compute_rouge(reference, candidate):\n",
    "    scorer = rouge_scorer.RougeScorer(['rouge1', 'rouge2', 'rougeL'], use_stemmer=True)\n",
    "    return scorer.score(reference, candidate)\n",
    "\n",
    "# 📌 Summarization function\n",
    "def summarize_with_model(query, document_text, model_name=\"t5-small\"):\n",
    "    print(f\"\\n🔍 Running summarization with model: {model_name}\")\n",
    "\n",
    "    # ✅ Auto-detect device (GPU/CPU)\n",
    "    device = 0 if torch.cuda.is_available() else -1\n",
    "    print(f\"Device set to use {'cuda' if device == 0 else 'cpu'}\")\n",
    "\n",
    "    summarizer = pipeline(\"summarization\", model=model_name, device=device)\n",
    "\n",
    "    def chunked_summarization(text, chunk_size=512, max_chunks=10, max_length=128, min_length=30):\n",
    "        chunks = [text[i:i + chunk_size] for i in range(0, len(text), chunk_size)][:max_chunks]\n",
    "        summaries = []\n",
    "\n",
    "        for i, chunk in enumerate(chunks):\n",
    "            print(f\"   📎 Summarizing chunk {i+1}/{len(chunks)}\")\n",
    "            summary = summarizer(chunk, max_length=max_length, min_length=min_length, do_sample=False)\n",
    "            summaries.append(summary[0]['summary_text'])\n",
    "\n",
    "        return \" \".join(summaries)\n",
    "\n",
    "    return chunked_summarization(document_text)\n",
    "\n",
    "# 📝 Sample input\n",
    "query = \"Summarize the main idea of this document.\"\n",
    "document_text = \"\"\"\n",
    "Machine learning is a method of data analysis that automates analytical model building. It is a branch of artificial intelligence\n",
    "based on the idea that systems can learn from data, identify patterns and make decisions with minimal human intervention.\n",
    "The iterative aspect of machine learning is important because as models are exposed to new data, they are able to independently adapt.\n",
    "They learn from previous computations to produce reliable, repeatable decisions and results. It’s a science that’s not new – but one\n",
    "that has gained fresh momentum.\n",
    "\"\"\"\n",
    "\n",
    "# ✅ Reference summary for evaluation\n",
    "reference_summary = \"Machine learning is a type of AI that enables systems to learn and improve from experience without being explicitly programmed.\"\n",
    "\n",
    "# 🧪 Baseline & Large Models to Try\n",
    "models = [\n",
    "    \"allenai/led-base-16384\",\n",
    "    \"facebook/bart-large-cnn\",\n",
    "    \"google/pegasus-large\",\n",
    "    #other models\n",
    "    \"google/flan-t5-base\",\n",
    "    \"google/pegasus-cnn_dailymail\",\n",
    "    \"google/flan-t5-large\"\n",
    "\n",
    "]\n",
    "\n",
    "# 🚀 Execute & evaluate\n",
    "for model in models:\n",
    "    try:\n",
    "        summary = summarize_with_model(query, document_text, model_name=model)\n",
    "\n",
    "        # 🔍 Evaluation\n",
    "        bleu = compute_bleu(reference_summary, summary)\n",
    "        rouge = compute_rouge(reference_summary, summary)\n",
    "\n",
    "        print(\"\\n🔷 Model Performance:\")\n",
    "        print(f\"   🟢 BLEU: {bleu:.4f}\")\n",
    "        print(f\"   🟢 ROUGE-1: {rouge['rouge1'].fmeasure:.4f}\")\n",
    "        print(f\"   🟢 ROUGE-2: {rouge['rouge2'].fmeasure:.4f}\")\n",
    "        print(f\"   🟢 ROUGE-L: {rouge['rougeL'].fmeasure:.4f}\")\n",
    "\n",
    "    except Exception as e:\n",
    "        print(f\"\\n❌ Error with model {model}: {e}\")\n"
   ]
  },
  {
   "cell_type": "code",
   "execution_count": null,
   "metadata": {
    "id": "UlLTMnOp3QEU"
   },
   "outputs": [],
   "source": []
  }
 ],
 "metadata": {
  "colab": {
   "provenance": []
  },
  "kernelspec": {
   "display_name": "Python 3",
   "name": "python3"
  },
  "language_info": {
   "name": "python"
  }
 },
 "nbformat": 4,
 "nbformat_minor": 0
}
