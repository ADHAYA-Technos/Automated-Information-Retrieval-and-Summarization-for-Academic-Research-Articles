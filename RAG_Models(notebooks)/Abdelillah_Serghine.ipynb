{
  "nbformat": 4,
  "nbformat_minor": 0,
  "metadata": {
    "colab": {
      "provenance": []
    },
    "kernelspec": {
      "name": "python3",
      "display_name": "Python 3"
    },
    "language_info": {
      "name": "python"
    }
  },
  "cells": [
    {
      "cell_type": "code",
      "execution_count": 15,
      "metadata": {
        "colab": {
          "base_uri": "https://localhost:8080/"
        },
        "id": "hPKwYAcGQk2X",
        "outputId": "df5d483b-95a8-4f64-8591-5d42543daaae"
      },
      "outputs": [
        {
          "output_type": "stream",
          "name": "stdout",
          "text": [
            "Drive already mounted at /content/drive; to attempt to forcibly remount, call drive.mount(\"/content/drive\", force_remount=True).\n"
          ]
        }
      ],
      "source": [
        "from google.colab import drive\n",
        "from sentence_transformers import SentenceTransformer\n",
        "\n",
        "drive.mount('/content/drive')\n"
      ]
    },
    {
      "cell_type": "code",
      "source": [
        "!pip install chromadb\n",
        "# #"
      ],
      "metadata": {
        "colab": {
          "base_uri": "https://localhost:8080/"
        },
        "id": "wZj31TrYTKtz",
        "outputId": "a321c6bd-4ca5-4d66-8041-d416a73bd141"
      },
      "execution_count": 16,
      "outputs": [
        {
          "output_type": "stream",
          "name": "stdout",
          "text": [
            "Requirement already satisfied: chromadb in /usr/local/lib/python3.11/dist-packages (0.6.3)\n",
            "Requirement already satisfied: build>=1.0.3 in /usr/local/lib/python3.11/dist-packages (from chromadb) (1.2.2.post1)\n",
            "Requirement already satisfied: pydantic>=1.9 in /usr/local/lib/python3.11/dist-packages (from chromadb) (2.10.6)\n",
            "Requirement already satisfied: chroma-hnswlib==0.7.6 in /usr/local/lib/python3.11/dist-packages (from chromadb) (0.7.6)\n",
            "Requirement already satisfied: fastapi>=0.95.2 in /usr/local/lib/python3.11/dist-packages (from chromadb) (0.115.12)\n",
            "Requirement already satisfied: uvicorn>=0.18.3 in /usr/local/lib/python3.11/dist-packages (from uvicorn[standard]>=0.18.3->chromadb) (0.34.0)\n",
            "Requirement already satisfied: numpy>=1.22.5 in /usr/local/lib/python3.11/dist-packages (from chromadb) (2.0.2)\n",
            "Requirement already satisfied: posthog>=2.4.0 in /usr/local/lib/python3.11/dist-packages (from chromadb) (3.23.0)\n",
            "Requirement already satisfied: typing_extensions>=4.5.0 in /usr/local/lib/python3.11/dist-packages (from chromadb) (4.12.2)\n",
            "Requirement already satisfied: onnxruntime>=1.14.1 in /usr/local/lib/python3.11/dist-packages (from chromadb) (1.21.0)\n",
            "Requirement already satisfied: opentelemetry-api>=1.2.0 in /usr/local/lib/python3.11/dist-packages (from chromadb) (1.31.1)\n",
            "Requirement already satisfied: opentelemetry-exporter-otlp-proto-grpc>=1.2.0 in /usr/local/lib/python3.11/dist-packages (from chromadb) (1.31.1)\n",
            "Requirement already satisfied: opentelemetry-instrumentation-fastapi>=0.41b0 in /usr/local/lib/python3.11/dist-packages (from chromadb) (0.52b1)\n",
            "Requirement already satisfied: opentelemetry-sdk>=1.2.0 in /usr/local/lib/python3.11/dist-packages (from chromadb) (1.31.1)\n",
            "Requirement already satisfied: tokenizers>=0.13.2 in /usr/local/lib/python3.11/dist-packages (from chromadb) (0.21.1)\n",
            "Requirement already satisfied: pypika>=0.48.9 in /usr/local/lib/python3.11/dist-packages (from chromadb) (0.48.9)\n",
            "Requirement already satisfied: tqdm>=4.65.0 in /usr/local/lib/python3.11/dist-packages (from chromadb) (4.67.1)\n",
            "Requirement already satisfied: overrides>=7.3.1 in /usr/local/lib/python3.11/dist-packages (from chromadb) (7.7.0)\n",
            "Requirement already satisfied: importlib-resources in /usr/local/lib/python3.11/dist-packages (from chromadb) (6.5.2)\n",
            "Requirement already satisfied: grpcio>=1.58.0 in /usr/local/lib/python3.11/dist-packages (from chromadb) (1.71.0)\n",
            "Requirement already satisfied: bcrypt>=4.0.1 in /usr/local/lib/python3.11/dist-packages (from chromadb) (4.3.0)\n",
            "Requirement already satisfied: typer>=0.9.0 in /usr/local/lib/python3.11/dist-packages (from chromadb) (0.15.2)\n",
            "Requirement already satisfied: kubernetes>=28.1.0 in /usr/local/lib/python3.11/dist-packages (from chromadb) (32.0.1)\n",
            "Requirement already satisfied: tenacity>=8.2.3 in /usr/local/lib/python3.11/dist-packages (from chromadb) (9.0.0)\n",
            "Requirement already satisfied: PyYAML>=6.0.0 in /usr/local/lib/python3.11/dist-packages (from chromadb) (6.0.2)\n",
            "Requirement already satisfied: mmh3>=4.0.1 in /usr/local/lib/python3.11/dist-packages (from chromadb) (5.1.0)\n",
            "Requirement already satisfied: orjson>=3.9.12 in /usr/local/lib/python3.11/dist-packages (from chromadb) (3.10.15)\n",
            "Requirement already satisfied: httpx>=0.27.0 in /usr/local/lib/python3.11/dist-packages (from chromadb) (0.28.1)\n",
            "Requirement already satisfied: rich>=10.11.0 in /usr/local/lib/python3.11/dist-packages (from chromadb) (13.9.4)\n",
            "Requirement already satisfied: packaging>=19.1 in /usr/local/lib/python3.11/dist-packages (from build>=1.0.3->chromadb) (24.2)\n",
            "Requirement already satisfied: pyproject_hooks in /usr/local/lib/python3.11/dist-packages (from build>=1.0.3->chromadb) (1.2.0)\n",
            "Requirement already satisfied: starlette<0.47.0,>=0.40.0 in /usr/local/lib/python3.11/dist-packages (from fastapi>=0.95.2->chromadb) (0.46.1)\n",
            "Requirement already satisfied: anyio in /usr/local/lib/python3.11/dist-packages (from httpx>=0.27.0->chromadb) (4.9.0)\n",
            "Requirement already satisfied: certifi in /usr/local/lib/python3.11/dist-packages (from httpx>=0.27.0->chromadb) (2025.1.31)\n",
            "Requirement already satisfied: httpcore==1.* in /usr/local/lib/python3.11/dist-packages (from httpx>=0.27.0->chromadb) (1.0.7)\n",
            "Requirement already satisfied: idna in /usr/local/lib/python3.11/dist-packages (from httpx>=0.27.0->chromadb) (3.10)\n",
            "Requirement already satisfied: h11<0.15,>=0.13 in /usr/local/lib/python3.11/dist-packages (from httpcore==1.*->httpx>=0.27.0->chromadb) (0.14.0)\n",
            "Requirement already satisfied: six>=1.9.0 in /usr/local/lib/python3.11/dist-packages (from kubernetes>=28.1.0->chromadb) (1.17.0)\n",
            "Requirement already satisfied: python-dateutil>=2.5.3 in /usr/local/lib/python3.11/dist-packages (from kubernetes>=28.1.0->chromadb) (2.8.2)\n",
            "Requirement already satisfied: google-auth>=1.0.1 in /usr/local/lib/python3.11/dist-packages (from kubernetes>=28.1.0->chromadb) (2.38.0)\n",
            "Requirement already satisfied: websocket-client!=0.40.0,!=0.41.*,!=0.42.*,>=0.32.0 in /usr/local/lib/python3.11/dist-packages (from kubernetes>=28.1.0->chromadb) (1.8.0)\n",
            "Requirement already satisfied: requests in /usr/local/lib/python3.11/dist-packages (from kubernetes>=28.1.0->chromadb) (2.32.3)\n",
            "Requirement already satisfied: requests-oauthlib in /usr/local/lib/python3.11/dist-packages (from kubernetes>=28.1.0->chromadb) (2.0.0)\n",
            "Requirement already satisfied: oauthlib>=3.2.2 in /usr/local/lib/python3.11/dist-packages (from kubernetes>=28.1.0->chromadb) (3.2.2)\n",
            "Requirement already satisfied: urllib3>=1.24.2 in /usr/local/lib/python3.11/dist-packages (from kubernetes>=28.1.0->chromadb) (2.3.0)\n",
            "Requirement already satisfied: durationpy>=0.7 in /usr/local/lib/python3.11/dist-packages (from kubernetes>=28.1.0->chromadb) (0.9)\n",
            "Requirement already satisfied: coloredlogs in /usr/local/lib/python3.11/dist-packages (from onnxruntime>=1.14.1->chromadb) (15.0.1)\n",
            "Requirement already satisfied: flatbuffers in /usr/local/lib/python3.11/dist-packages (from onnxruntime>=1.14.1->chromadb) (25.2.10)\n",
            "Requirement already satisfied: protobuf in /usr/local/lib/python3.11/dist-packages (from onnxruntime>=1.14.1->chromadb) (5.29.4)\n",
            "Requirement already satisfied: sympy in /usr/local/lib/python3.11/dist-packages (from onnxruntime>=1.14.1->chromadb) (1.13.1)\n",
            "Requirement already satisfied: deprecated>=1.2.6 in /usr/local/lib/python3.11/dist-packages (from opentelemetry-api>=1.2.0->chromadb) (1.2.18)\n",
            "Requirement already satisfied: importlib-metadata<8.7.0,>=6.0 in /usr/local/lib/python3.11/dist-packages (from opentelemetry-api>=1.2.0->chromadb) (8.6.1)\n",
            "Requirement already satisfied: googleapis-common-protos~=1.52 in /usr/local/lib/python3.11/dist-packages (from opentelemetry-exporter-otlp-proto-grpc>=1.2.0->chromadb) (1.69.2)\n",
            "Requirement already satisfied: opentelemetry-exporter-otlp-proto-common==1.31.1 in /usr/local/lib/python3.11/dist-packages (from opentelemetry-exporter-otlp-proto-grpc>=1.2.0->chromadb) (1.31.1)\n",
            "Requirement already satisfied: opentelemetry-proto==1.31.1 in /usr/local/lib/python3.11/dist-packages (from opentelemetry-exporter-otlp-proto-grpc>=1.2.0->chromadb) (1.31.1)\n",
            "Requirement already satisfied: opentelemetry-instrumentation-asgi==0.52b1 in /usr/local/lib/python3.11/dist-packages (from opentelemetry-instrumentation-fastapi>=0.41b0->chromadb) (0.52b1)\n",
            "Requirement already satisfied: opentelemetry-instrumentation==0.52b1 in /usr/local/lib/python3.11/dist-packages (from opentelemetry-instrumentation-fastapi>=0.41b0->chromadb) (0.52b1)\n",
            "Requirement already satisfied: opentelemetry-semantic-conventions==0.52b1 in /usr/local/lib/python3.11/dist-packages (from opentelemetry-instrumentation-fastapi>=0.41b0->chromadb) (0.52b1)\n",
            "Requirement already satisfied: opentelemetry-util-http==0.52b1 in /usr/local/lib/python3.11/dist-packages (from opentelemetry-instrumentation-fastapi>=0.41b0->chromadb) (0.52b1)\n",
            "Requirement already satisfied: wrapt<2.0.0,>=1.0.0 in /usr/local/lib/python3.11/dist-packages (from opentelemetry-instrumentation==0.52b1->opentelemetry-instrumentation-fastapi>=0.41b0->chromadb) (1.17.2)\n",
            "Requirement already satisfied: asgiref~=3.0 in /usr/local/lib/python3.11/dist-packages (from opentelemetry-instrumentation-asgi==0.52b1->opentelemetry-instrumentation-fastapi>=0.41b0->chromadb) (3.8.1)\n",
            "Requirement already satisfied: monotonic>=1.5 in /usr/local/lib/python3.11/dist-packages (from posthog>=2.4.0->chromadb) (1.6)\n",
            "Requirement already satisfied: backoff>=1.10.0 in /usr/local/lib/python3.11/dist-packages (from posthog>=2.4.0->chromadb) (2.2.1)\n",
            "Requirement already satisfied: distro>=1.5.0 in /usr/local/lib/python3.11/dist-packages (from posthog>=2.4.0->chromadb) (1.9.0)\n",
            "Requirement already satisfied: annotated-types>=0.6.0 in /usr/local/lib/python3.11/dist-packages (from pydantic>=1.9->chromadb) (0.7.0)\n",
            "Requirement already satisfied: pydantic-core==2.27.2 in /usr/local/lib/python3.11/dist-packages (from pydantic>=1.9->chromadb) (2.27.2)\n",
            "Requirement already satisfied: markdown-it-py>=2.2.0 in /usr/local/lib/python3.11/dist-packages (from rich>=10.11.0->chromadb) (3.0.0)\n",
            "Requirement already satisfied: pygments<3.0.0,>=2.13.0 in /usr/local/lib/python3.11/dist-packages (from rich>=10.11.0->chromadb) (2.18.0)\n",
            "Requirement already satisfied: huggingface-hub<1.0,>=0.16.4 in /usr/local/lib/python3.11/dist-packages (from tokenizers>=0.13.2->chromadb) (0.29.3)\n",
            "Requirement already satisfied: click>=8.0.0 in /usr/local/lib/python3.11/dist-packages (from typer>=0.9.0->chromadb) (8.1.8)\n",
            "Requirement already satisfied: shellingham>=1.3.0 in /usr/local/lib/python3.11/dist-packages (from typer>=0.9.0->chromadb) (1.5.4)\n",
            "Requirement already satisfied: httptools>=0.6.3 in /usr/local/lib/python3.11/dist-packages (from uvicorn[standard]>=0.18.3->chromadb) (0.6.4)\n",
            "Requirement already satisfied: python-dotenv>=0.13 in /usr/local/lib/python3.11/dist-packages (from uvicorn[standard]>=0.18.3->chromadb) (1.1.0)\n",
            "Requirement already satisfied: uvloop!=0.15.0,!=0.15.1,>=0.14.0 in /usr/local/lib/python3.11/dist-packages (from uvicorn[standard]>=0.18.3->chromadb) (0.21.0)\n",
            "Requirement already satisfied: watchfiles>=0.13 in /usr/local/lib/python3.11/dist-packages (from uvicorn[standard]>=0.18.3->chromadb) (1.0.4)\n",
            "Requirement already satisfied: websockets>=10.4 in /usr/local/lib/python3.11/dist-packages (from uvicorn[standard]>=0.18.3->chromadb) (15.0.1)\n",
            "Requirement already satisfied: cachetools<6.0,>=2.0.0 in /usr/local/lib/python3.11/dist-packages (from google-auth>=1.0.1->kubernetes>=28.1.0->chromadb) (5.5.2)\n",
            "Requirement already satisfied: pyasn1-modules>=0.2.1 in /usr/local/lib/python3.11/dist-packages (from google-auth>=1.0.1->kubernetes>=28.1.0->chromadb) (0.4.1)\n",
            "Requirement already satisfied: rsa<5,>=3.1.4 in /usr/local/lib/python3.11/dist-packages (from google-auth>=1.0.1->kubernetes>=28.1.0->chromadb) (4.9)\n",
            "Requirement already satisfied: filelock in /usr/local/lib/python3.11/dist-packages (from huggingface-hub<1.0,>=0.16.4->tokenizers>=0.13.2->chromadb) (3.18.0)\n",
            "Requirement already satisfied: fsspec>=2023.5.0 in /usr/local/lib/python3.11/dist-packages (from huggingface-hub<1.0,>=0.16.4->tokenizers>=0.13.2->chromadb) (2025.3.0)\n",
            "Requirement already satisfied: zipp>=3.20 in /usr/local/lib/python3.11/dist-packages (from importlib-metadata<8.7.0,>=6.0->opentelemetry-api>=1.2.0->chromadb) (3.21.0)\n",
            "Requirement already satisfied: mdurl~=0.1 in /usr/local/lib/python3.11/dist-packages (from markdown-it-py>=2.2.0->rich>=10.11.0->chromadb) (0.1.2)\n",
            "Requirement already satisfied: charset-normalizer<4,>=2 in /usr/local/lib/python3.11/dist-packages (from requests->kubernetes>=28.1.0->chromadb) (3.4.1)\n",
            "Requirement already satisfied: sniffio>=1.1 in /usr/local/lib/python3.11/dist-packages (from anyio->httpx>=0.27.0->chromadb) (1.3.1)\n",
            "Requirement already satisfied: humanfriendly>=9.1 in /usr/local/lib/python3.11/dist-packages (from coloredlogs->onnxruntime>=1.14.1->chromadb) (10.0)\n",
            "Requirement already satisfied: mpmath<1.4,>=1.1.0 in /usr/local/lib/python3.11/dist-packages (from sympy->onnxruntime>=1.14.1->chromadb) (1.3.0)\n",
            "Requirement already satisfied: pyasn1<0.7.0,>=0.4.6 in /usr/local/lib/python3.11/dist-packages (from pyasn1-modules>=0.2.1->google-auth>=1.0.1->kubernetes>=28.1.0->chromadb) (0.6.1)\n"
          ]
        }
      ]
    },
    {
      "cell_type": "code",
      "source": [
        "# !pip install fitz"
      ],
      "metadata": {
        "id": "m1n2kaKy3U8c"
      },
      "execution_count": 17,
      "outputs": []
    },
    {
      "cell_type": "code",
      "source": [
        "!pip install PyMuPDF"
      ],
      "metadata": {
        "colab": {
          "base_uri": "https://localhost:8080/"
        },
        "id": "oBlqAks-3zbO",
        "outputId": "b8ee2b24-b7bc-4cf3-ebcc-cd40e9fe31c5"
      },
      "execution_count": 18,
      "outputs": [
        {
          "output_type": "stream",
          "name": "stdout",
          "text": [
            "Requirement already satisfied: PyMuPDF in /usr/local/lib/python3.11/dist-packages (1.25.4)\n"
          ]
        }
      ]
    },
    {
      "cell_type": "code",
      "source": [
        "import fitz  # PyMuPDF\n",
        "\n",
        "def extract_text_from_pdf(pdf_path):\n",
        "    \"\"\"Extract text from an uploaded PDF file\"\"\"\n",
        "    doc = fitz.open(pdf_path)\n",
        "    text = \"\\n\".join([page.get_text() for page in doc])\n",
        "    return text\n",
        "\n",
        "# Example usage:\n",
        "pdf_path = \"/content/drive/MyDrive/Colab Notebooks/data/1_2972855.pdf\"\n",
        "document_text = extract_text_from_pdf(pdf_path)\n",
        "print(document_text[:5000])  # Print first 1000 characters for checking\n"
      ],
      "metadata": {
        "colab": {
          "base_uri": "https://localhost:8080/"
        },
        "id": "lJ51uPDl3S2G",
        "outputId": "8af78eb7-aa8c-4f75-d850-0bef4a41916d"
      },
      "execution_count": 19,
      "outputs": [
        {
          "output_type": "stream",
          "name": "stdout",
          "text": [
            " \n",
            " \n",
            "SLAVE TO THE ALGORITHM? WHY A ‘RIGHT \n",
            "TO AN EXPLANATION’ IS PROBABLY NOT THE \n",
            "REMEDY YOU ARE LOOKING FOR \n",
            "LILIAN EDWARDS† & MICHAEL VEALE†† \n",
            "ABSTRACT \n",
            "Algorithms, particularly machine learning (ML) algorithms, \n",
            "are increasingly important to individuals’ lives, but have caused a \n",
            "range of concerns revolving mainly around unfairness, \n",
            "discrimination and opacity. Transparency in the form of a “right to \n",
            "an explanation” has emerged as a compellingly attractive remedy \n",
            "since it intuitively promises to open the algorithmic “black box” to \n",
            "promote \n",
            "challenge, \n",
            "redress, \n",
            "and \n",
            "hopefully \n",
            "heightened \n",
            "accountability. Amidst the general furore over algorithmic bias we \n",
            "describe, any remedy in a storm has looked attractive. \n",
            "However, we argue that a right to an explanation in the EU \n",
            "General Data Protection Regulation (GDPR) is unlikely to present \n",
            "a complete remedy to algorithmic harms, particularly in some of \n",
            "the core “algorithmic war stories” that have shaped recent \n",
            "attitudes in this domain. Firstly, the law is restrictive, unclear, or \n",
            "even paradoxical concerning when any explanation-related right \n",
            "can be triggered. Secondly, even navigating this, the legal \n",
            "conception of explanations as “meaningful information about the \n",
            "logic of processing” may not be provided by the kind of ML \n",
            "“explanations” computer scientists have developed, partially in \n",
            "response. ML explanations are restricted both by the type of \n",
            "                                                      \n",
            "† Professor of Internet Law, Strathclyde Law School, University of Strathclyde, Glasgow, \n",
            "UK [lilian.edwards [at] strath.ac.uk]. Research supported in part by the Arts and Humanities \n",
            "Research Council (AHRC) centre CREATe, and the Engineering and Physical Sciences \n",
            "Research Council (EPSRC) Digital Economy Hub Horizon at University of Nottingham, \n",
            "grant number EP/G065802/1. \n",
            "†† Doctoral candidate, Department of Science, Technology, Engineering and Public Policy \n",
            "(STEaPP), University College London, UK [m.veale [at] ucl.ac.uk]; technical advisor, Red \n",
            "Cross Red Crescent Climate Centre. Michael Veale receives support from the EPSRC, grant \n",
            "number EP/M507970/1 and the World Bank Global Facility for Disaster Reduction and \n",
            "Recovery (GFDRR).  \n",
            "The authors would like to thank Johannes Welbl, Max Van Kleek, Reuben Binns, Giles \n",
            "Lane, and Tristan Henderson, and participants of BILETA 2017 (University of Braga, \n",
            "Portugal), the 2017 Privacy Law Scholars Conference (PLSC) and the 2017 Big Data: New \n",
            "Challenges for Law and Ethics Conference, University of Ljubljana, for their helpful \n",
            "comments. \n",
            "Electronic copy available at: https://ssrn.com/abstract=2972855\n",
            "\n",
            "19                          SLAVE TO THE ALGORITHM?  \n",
            "[Vol. 16 \n",
            "explanation sought, the dimensionality of the domain and the type \n",
            "of user seeking an explanation. However, “subject-centric\" \n",
            "explanations (SCEs) focussing on particular regions of a model \n",
            "around a query show promise for interactive exploration, as do \n",
            "explanation systems based on learning a model from outside rather \n",
            "than taking it apart (pedagogical versus decompositional \n",
            "explanations) in dodging developers' worries of intellectual \n",
            "property or trade secrets disclosure. \n",
            "Based on our analysis, we fear that the search for a “right to \n",
            "an explanation” in the GDPR may be at best distracting, and at \n",
            "worst nurture a new kind of “transparency fallacy.” But all is not \n",
            "lost. We argue that other parts of the GDPR related (i) to the right \n",
            "to erasure (\"right to be forgotten\") and the right to data portability; \n",
            "and (ii) to privacy by design, Data Protection Impact Assessments \n",
            "and certification and privacy seals, may have the seeds we can use \n",
            "to make algorithms more responsible, explicable, and human-\n",
            "centered. \n",
            "INTRODUCTION \n",
            " \n",
            "Increasingly, algorithms regulate our lives. Decisions vital to our \n",
            "welfare and freedoms are made using and supported by algorithms that \n",
            "improve with data: machine learning (ML) systems. Some of these mediate \n",
            "channels of communication and advertising on social media platforms, \n",
            "search engines or news websites used by billions. Others are being used to \n",
            "arrive at decisions vital to individuals, in areas such as finance, housing, \n",
            "employment, education or justice. Algorithmic systems are thus \n",
            "increasingly familiar, even vital, in both private, public and domestic \n",
            "sectors of life. \n",
            " \n",
            "The public has only relatively recently become aware of the ways in \n",
            "which their fortunes may be governed by systems they do not understand, \n",
            "and feel they cannot control; and they do not like it. Hopes of feeling in \n",
            "control of these systems are dashed by their hiddenness, their ubiquity, their \n",
            "opacity, and the lack of an obvious means to challenge them when they \n",
            "produce unexpected, damaging, unfair or discriminatory results. Once, \n",
            "people talked in hushed tones about “the market” and how its “invisible \n",
            "hand” governed and judged their lives in impenetrable ways: now it is \n",
            "observable that there is similar talk about “the algorithm,” as in: “I \n"
          ]
        }
      ]
    },
    {
      "cell_type": "code",
      "source": [
        "!pip install -U langchain-community"
      ],
      "metadata": {
        "colab": {
          "base_uri": "https://localhost:8080/"
        },
        "id": "h6zQkRtJ6ZBj",
        "outputId": "efce26e2-1ae6-4dfb-b645-1367176f36fe"
      },
      "execution_count": 20,
      "outputs": [
        {
          "output_type": "stream",
          "name": "stdout",
          "text": [
            "Requirement already satisfied: langchain-community in /usr/local/lib/python3.11/dist-packages (0.3.20)\n",
            "Requirement already satisfied: langchain-core<1.0.0,>=0.3.45 in /usr/local/lib/python3.11/dist-packages (from langchain-community) (0.3.47)\n",
            "Requirement already satisfied: langchain<1.0.0,>=0.3.21 in /usr/local/lib/python3.11/dist-packages (from langchain-community) (0.3.21)\n",
            "Requirement already satisfied: SQLAlchemy<3,>=1.4 in /usr/local/lib/python3.11/dist-packages (from langchain-community) (2.0.39)\n",
            "Requirement already satisfied: requests<3,>=2 in /usr/local/lib/python3.11/dist-packages (from langchain-community) (2.32.3)\n",
            "Requirement already satisfied: PyYAML>=5.3 in /usr/local/lib/python3.11/dist-packages (from langchain-community) (6.0.2)\n",
            "Requirement already satisfied: aiohttp<4.0.0,>=3.8.3 in /usr/local/lib/python3.11/dist-packages (from langchain-community) (3.11.14)\n",
            "Requirement already satisfied: tenacity!=8.4.0,<10,>=8.1.0 in /usr/local/lib/python3.11/dist-packages (from langchain-community) (9.0.0)\n",
            "Requirement already satisfied: dataclasses-json<0.7,>=0.5.7 in /usr/local/lib/python3.11/dist-packages (from langchain-community) (0.6.7)\n",
            "Requirement already satisfied: pydantic-settings<3.0.0,>=2.4.0 in /usr/local/lib/python3.11/dist-packages (from langchain-community) (2.8.1)\n",
            "Requirement already satisfied: langsmith<0.4,>=0.1.125 in /usr/local/lib/python3.11/dist-packages (from langchain-community) (0.3.18)\n",
            "Requirement already satisfied: httpx-sse<1.0.0,>=0.4.0 in /usr/local/lib/python3.11/dist-packages (from langchain-community) (0.4.0)\n",
            "Requirement already satisfied: numpy<3,>=1.26.2 in /usr/local/lib/python3.11/dist-packages (from langchain-community) (2.0.2)\n",
            "Requirement already satisfied: aiohappyeyeballs>=2.3.0 in /usr/local/lib/python3.11/dist-packages (from aiohttp<4.0.0,>=3.8.3->langchain-community) (2.6.1)\n",
            "Requirement already satisfied: aiosignal>=1.1.2 in /usr/local/lib/python3.11/dist-packages (from aiohttp<4.0.0,>=3.8.3->langchain-community) (1.3.2)\n",
            "Requirement already satisfied: attrs>=17.3.0 in /usr/local/lib/python3.11/dist-packages (from aiohttp<4.0.0,>=3.8.3->langchain-community) (25.3.0)\n",
            "Requirement already satisfied: frozenlist>=1.1.1 in /usr/local/lib/python3.11/dist-packages (from aiohttp<4.0.0,>=3.8.3->langchain-community) (1.5.0)\n",
            "Requirement already satisfied: multidict<7.0,>=4.5 in /usr/local/lib/python3.11/dist-packages (from aiohttp<4.0.0,>=3.8.3->langchain-community) (6.2.0)\n",
            "Requirement already satisfied: propcache>=0.2.0 in /usr/local/lib/python3.11/dist-packages (from aiohttp<4.0.0,>=3.8.3->langchain-community) (0.3.0)\n",
            "Requirement already satisfied: yarl<2.0,>=1.17.0 in /usr/local/lib/python3.11/dist-packages (from aiohttp<4.0.0,>=3.8.3->langchain-community) (1.18.3)\n",
            "Requirement already satisfied: marshmallow<4.0.0,>=3.18.0 in /usr/local/lib/python3.11/dist-packages (from dataclasses-json<0.7,>=0.5.7->langchain-community) (3.26.1)\n",
            "Requirement already satisfied: typing-inspect<1,>=0.4.0 in /usr/local/lib/python3.11/dist-packages (from dataclasses-json<0.7,>=0.5.7->langchain-community) (0.9.0)\n",
            "Requirement already satisfied: langchain-text-splitters<1.0.0,>=0.3.7 in /usr/local/lib/python3.11/dist-packages (from langchain<1.0.0,>=0.3.21->langchain-community) (0.3.7)\n",
            "Requirement already satisfied: pydantic<3.0.0,>=2.7.4 in /usr/local/lib/python3.11/dist-packages (from langchain<1.0.0,>=0.3.21->langchain-community) (2.10.6)\n",
            "Requirement already satisfied: jsonpatch<2.0,>=1.33 in /usr/local/lib/python3.11/dist-packages (from langchain-core<1.0.0,>=0.3.45->langchain-community) (1.33)\n",
            "Requirement already satisfied: packaging<25,>=23.2 in /usr/local/lib/python3.11/dist-packages (from langchain-core<1.0.0,>=0.3.45->langchain-community) (24.2)\n",
            "Requirement already satisfied: typing-extensions>=4.7 in /usr/local/lib/python3.11/dist-packages (from langchain-core<1.0.0,>=0.3.45->langchain-community) (4.12.2)\n",
            "Requirement already satisfied: httpx<1,>=0.23.0 in /usr/local/lib/python3.11/dist-packages (from langsmith<0.4,>=0.1.125->langchain-community) (0.28.1)\n",
            "Requirement already satisfied: orjson<4.0.0,>=3.9.14 in /usr/local/lib/python3.11/dist-packages (from langsmith<0.4,>=0.1.125->langchain-community) (3.10.15)\n",
            "Requirement already satisfied: requests-toolbelt<2.0.0,>=1.0.0 in /usr/local/lib/python3.11/dist-packages (from langsmith<0.4,>=0.1.125->langchain-community) (1.0.0)\n",
            "Requirement already satisfied: zstandard<0.24.0,>=0.23.0 in /usr/local/lib/python3.11/dist-packages (from langsmith<0.4,>=0.1.125->langchain-community) (0.23.0)\n",
            "Requirement already satisfied: python-dotenv>=0.21.0 in /usr/local/lib/python3.11/dist-packages (from pydantic-settings<3.0.0,>=2.4.0->langchain-community) (1.1.0)\n",
            "Requirement already satisfied: charset-normalizer<4,>=2 in /usr/local/lib/python3.11/dist-packages (from requests<3,>=2->langchain-community) (3.4.1)\n",
            "Requirement already satisfied: idna<4,>=2.5 in /usr/local/lib/python3.11/dist-packages (from requests<3,>=2->langchain-community) (3.10)\n",
            "Requirement already satisfied: urllib3<3,>=1.21.1 in /usr/local/lib/python3.11/dist-packages (from requests<3,>=2->langchain-community) (2.3.0)\n",
            "Requirement already satisfied: certifi>=2017.4.17 in /usr/local/lib/python3.11/dist-packages (from requests<3,>=2->langchain-community) (2025.1.31)\n",
            "Requirement already satisfied: greenlet!=0.4.17 in /usr/local/lib/python3.11/dist-packages (from SQLAlchemy<3,>=1.4->langchain-community) (3.1.1)\n",
            "Requirement already satisfied: anyio in /usr/local/lib/python3.11/dist-packages (from httpx<1,>=0.23.0->langsmith<0.4,>=0.1.125->langchain-community) (4.9.0)\n",
            "Requirement already satisfied: httpcore==1.* in /usr/local/lib/python3.11/dist-packages (from httpx<1,>=0.23.0->langsmith<0.4,>=0.1.125->langchain-community) (1.0.7)\n",
            "Requirement already satisfied: h11<0.15,>=0.13 in /usr/local/lib/python3.11/dist-packages (from httpcore==1.*->httpx<1,>=0.23.0->langsmith<0.4,>=0.1.125->langchain-community) (0.14.0)\n",
            "Requirement already satisfied: jsonpointer>=1.9 in /usr/local/lib/python3.11/dist-packages (from jsonpatch<2.0,>=1.33->langchain-core<1.0.0,>=0.3.45->langchain-community) (3.0.0)\n",
            "Requirement already satisfied: annotated-types>=0.6.0 in /usr/local/lib/python3.11/dist-packages (from pydantic<3.0.0,>=2.7.4->langchain<1.0.0,>=0.3.21->langchain-community) (0.7.0)\n",
            "Requirement already satisfied: pydantic-core==2.27.2 in /usr/local/lib/python3.11/dist-packages (from pydantic<3.0.0,>=2.7.4->langchain<1.0.0,>=0.3.21->langchain-community) (2.27.2)\n",
            "Requirement already satisfied: mypy-extensions>=0.3.0 in /usr/local/lib/python3.11/dist-packages (from typing-inspect<1,>=0.4.0->dataclasses-json<0.7,>=0.5.7->langchain-community) (1.0.0)\n",
            "Requirement already satisfied: sniffio>=1.1 in /usr/local/lib/python3.11/dist-packages (from anyio->httpx<1,>=0.23.0->langsmith<0.4,>=0.1.125->langchain-community) (1.3.1)\n"
          ]
        }
      ]
    },
    {
      "cell_type": "code",
      "source": [
        "# !pip install sentence-transformers"
      ],
      "metadata": {
        "id": "fBb0sFRIQDrf"
      },
      "execution_count": 21,
      "outputs": []
    },
    {
      "cell_type": "code",
      "source": [
        "import chromadb\n",
        "from langchain.text_splitter import RecursiveCharacterTextSplitter\n",
        "from langchain.embeddings import HuggingFaceEmbeddings\n",
        "from langchain.vectorstores import Chroma\n",
        "from transformers import pipeline\n",
        "\n",
        "def rag_summary(user_query, document_text):\n",
        "    ### 1️⃣ Load and Split Document ###\n",
        "    def load_and_split_document(text, chunk_size=512, chunk_overlap=50):\n",
        "        splitter = RecursiveCharacterTextSplitter(\n",
        "            chunk_size=chunk_size, chunk_overlap=chunk_overlap\n",
        "        )\n",
        "        return splitter.split_text(text)\n",
        "\n",
        "    ### 2️⃣ Store Document in ChromaDB ###\n",
        "    def store_document_in_chromadb(chroma_db, document_chunks):\n",
        "        for i, chunk in enumerate(document_chunks):\n",
        "            chroma_db.add_texts(texts=[chunk], metadatas=[{\"chunk_id\": i}])\n",
        "\n",
        "    ### 3️⃣ Retrieve Relevant Chunks from ChromaDB ###\n",
        "    def retrieve_relevant_chunks(chroma_db, query, k=10):\n",
        "        return chroma_db.similarity_search(query, k=k)\n",
        "\n",
        "    ### 4️⃣ Summarize Retrieved Chunks ###\n",
        "    def summarize_text(query, text):\n",
        "        summarizer = pipeline(\"summarization\", model=\"t5-base\")\n",
        "        input_text = f\"Query: {query} \\nDocument: {text}\"  # 🔥 Query-based input\n",
        "        summary = summarizer(input_text, max_length=150, min_length=50, do_sample=False)\n",
        "        return summary[0]['summary_text']\n",
        "\n",
        "    ### 🚀 RAG Summarization Pipeline ###\n",
        "    def rag_summarization(chroma_db, query):\n",
        "        retrieved_chunks = retrieve_relevant_chunks(chroma_db, query)\n",
        "\n",
        "        # Combine retrieved chunks\n",
        "        retrieved_text = \" \".join([chunk.page_content for chunk in retrieved_chunks if len(chunk.page_content.split()) > 5])\n",
        "\n",
        "        if not retrieved_text:\n",
        "            return \"No relevant content found for summarization.\"\n",
        "\n",
        "        return summarize_text(query, retrieved_text)\n",
        "\n",
        "    ### ⚡ Pipeline Execution ###\n",
        "    embedding_function = HuggingFaceEmbeddings(model_name=\"sentence-transformers/all-MiniLM-L6-v2\")\n",
        "    chroma_db = Chroma(persist_directory=\"/content/drive/MyDrive/VectorDB_Embeddings\", embedding_function=embedding_function)\n",
        "\n",
        "    # Step 1: Split document into chunks\n",
        "    document_chunks = load_and_split_document(document_text)\n",
        "\n",
        "    # Step 2: Store in ChromaDB\n",
        "    store_document_in_chromadb(chroma_db, document_chunks)\n",
        "\n",
        "    # Step 3: Perform Query-Based Summarization\n",
        "    summary = rag_summarization(chroma_db, user_query)\n",
        "\n",
        "    print(\"Summary:\", summary)\n",
        "    return summary\n",
        "\n"
      ],
      "metadata": {
        "id": "jmu9Eijd4r4V"
      },
      "execution_count": 29,
      "outputs": []
    },
    {
      "cell_type": "code",
      "source": [
        "from transformers import pipeline\n",
        "\n",
        "def t5small_summary(query, document_text):\n",
        "\n",
        "  # Initialize T5-Small summarization model\n",
        "  t5_summarizer = pipeline(\"summarization\", model=\"t5-small\")\n",
        "\n",
        "  ### Function to Summarize Text in Chunks ###\n",
        "  def chunked_t5_summarization(query, text, chunk_size=256, max_chunks=15, max_length=100, min_length=30):\n",
        "      chunks = [text[i:i + chunk_size] for i in range(0, len(text), chunk_size)][:max_chunks]  # Limit to 15 chunks\n",
        "      summaries = []\n",
        "\n",
        "      for chunk in chunks:\n",
        "          input_text = f\"Query: {query} \\nDocument: {chunk}\"\n",
        "          summary = t5_summarizer(input_text, max_length=max_length, min_length=min_length, do_sample=False)\n",
        "          summaries.append(summary[0]['summary_text'])\n",
        "\n",
        "      return \" \".join(summaries)  # Combine chunk summaries into final summary\n",
        "\n",
        "  t5_query_summary = chunked_t5_summarization(query, document_text)\n",
        "  return t5_query_summary"
      ],
      "metadata": {
        "id": "FFiTHQG09Q_n"
      },
      "execution_count": 23,
      "outputs": []
    },
    {
      "cell_type": "code",
      "source": [
        "!pip install rouge-score\n"
      ],
      "metadata": {
        "colab": {
          "base_uri": "https://localhost:8080/"
        },
        "id": "4y5wOhCfTMDU",
        "outputId": "cb8d8d84-8c89-43f6-e755-e9bbcda6e643"
      },
      "execution_count": 24,
      "outputs": [
        {
          "output_type": "stream",
          "name": "stdout",
          "text": [
            "Requirement already satisfied: rouge-score in /usr/local/lib/python3.11/dist-packages (0.1.2)\n",
            "Requirement already satisfied: absl-py in /usr/local/lib/python3.11/dist-packages (from rouge-score) (1.4.0)\n",
            "Requirement already satisfied: nltk in /usr/local/lib/python3.11/dist-packages (from rouge-score) (3.9.1)\n",
            "Requirement already satisfied: numpy in /usr/local/lib/python3.11/dist-packages (from rouge-score) (2.0.2)\n",
            "Requirement already satisfied: six>=1.14.0 in /usr/local/lib/python3.11/dist-packages (from rouge-score) (1.17.0)\n",
            "Requirement already satisfied: click in /usr/local/lib/python3.11/dist-packages (from nltk->rouge-score) (8.1.8)\n",
            "Requirement already satisfied: joblib in /usr/local/lib/python3.11/dist-packages (from nltk->rouge-score) (1.4.2)\n",
            "Requirement already satisfied: regex>=2021.8.3 in /usr/local/lib/python3.11/dist-packages (from nltk->rouge-score) (2024.11.6)\n",
            "Requirement already satisfied: tqdm in /usr/local/lib/python3.11/dist-packages (from nltk->rouge-score) (4.67.1)\n"
          ]
        }
      ]
    },
    {
      "cell_type": "code",
      "source": [
        "# test on one file\n",
        "from nltk.translate.bleu_score import sentence_bleu\n",
        "from rouge_score import rouge_scorer\n",
        "import time\n",
        "\n",
        "client = chromadb.PersistentClient(path=\"/content/drive/MyDrive/VectorDB_Embeddings\")\n",
        "collection = client.get_or_create_collection(name='ties_collection_emb', metadata={\"hnsw:space\": \"cosine\"})\n",
        "def rag_query(query):\n",
        "    \"\"\"Retrieves the most relevant document chunks from the vector database.\"\"\"\n",
        "    results = collection.query(query_texts=[query], n_results=3)\n",
        "\n",
        "    if \"documents\" not in results or not results[\"documents\"]:\n",
        "        return []\n",
        "\n",
        "    retrieved_docs = results[\"documents\"][0]  # List of relevant chunk texts\n",
        "\n",
        "    # Convert to document-like objects\n",
        "    class Document:\n",
        "        def __init__(self, content):\n",
        "            self.page_content = content\n",
        "\n",
        "    return [Document(doc) for doc in retrieved_docs]\n",
        "\n",
        "# ------------------------------------------------------------------------------\n",
        "\n",
        "# Folder path containing PDFs\n",
        "pdf = \"/content/drive/MyDrive/Colab Notebooks/data/38_1612851.pdf\"\n",
        "\n",
        "# Load your models\n",
        "\n",
        "\n",
        "# Extract text from the first 1000 characters (approx. abstract)\n",
        "def extract_abstract(pdf_path):\n",
        "    doc = fitz.open(pdf_path)\n",
        "    text = \"\\n\".join([page.get_text(\"text\") for page in doc])\n",
        "    return text[:1000]  # First 1000 chars as ground truth summary\n",
        "\n",
        "# Compute BLEU score\n",
        "def compute_bleu(reference, candidate):\n",
        "    reference_tokens = [reference.split()]\n",
        "    candidate_tokens = candidate.split()\n",
        "    return sentence_bleu(reference_tokens, candidate_tokens)\n",
        "\n",
        "# Compute ROUGE scores\n",
        "def compute_rouge(reference, candidate):\n",
        "    scorer = rouge_scorer.RougeScorer(['rouge1', 'rouge2', 'rougeL'], use_stemmer=True)\n",
        "    return scorer.score(reference, candidate)\n",
        "\n",
        "# Find all PDFs in the folder\n",
        "# pdf_files = glob.glob(os.path.join(pdf_folder, \"*.pdf\"))\n",
        "\n",
        "# Evaluate on all PDFs\n",
        "# Store results\n",
        "bleu_scores = {\"RAG\": [], \"t5small\": []}\n",
        "rouge_scores = {\"RAG\": {\"rouge1\": [], \"rouge2\": [], \"rougeL\": []},\n",
        "                \"t5small\": {\"rouge1\": [], \"rouge2\": [], \"rougeL\": []}}\n",
        "\n",
        "# Evaluation loop\n",
        "# for pdf in pdf_files:\n",
        "print(f\"Processing {pdf}...\")\n",
        "\n",
        "# Extract reference summary\n",
        "reference_summary = extract_abstract(pdf)\n",
        "\n",
        "# summary generation\n",
        "query = \"Summarize this paper in 200 words.\"\n",
        "rag_summary = rag_summary(query, document_text)\n",
        "t5small_summary_text = t5small_summary(query, document_text)\n",
        "\n",
        "# Compute BLEU & ROUGE\n",
        "bleu_rag = compute_bleu(reference_summary, rag_summary)\n",
        "rouge_rag = compute_rouge(reference_summary, rag_summary)\n",
        "\n",
        "bleu_t5small = compute_bleu(reference_summary, t5small_summary_text)\n",
        "rouge_t5small = compute_rouge(reference_summary, t5small_summary_text)\n",
        "\n",
        "# Store results\n",
        "bleu_scores[\"RAG\"].append(bleu_rag)\n",
        "bleu_scores[\"t5small\"].append(bleu_t5small)\n",
        "\n",
        "for key in [\"rouge1\", \"rouge2\", \"rougeL\"]:\n",
        "    rouge_scores[\"RAG\"][key].append(rouge_rag[key].fmeasure)\n",
        "    rouge_scores[\"t5small\"][key].append(rouge_t5small[key].fmeasure)\n",
        "\n",
        "rag_query(query)\n",
        "time.sleep(2)\n",
        "\n",
        "# # Print final evaluation results\n",
        "# for model, scores in results.items():\n",
        "#     avg_bleu = sum(s[\"BLEU\"] for s in scores) / len(scores)\n",
        "#     avg_rouge1 = sum(s[\"ROUGE\"][\"rouge1\"].fmeasure for s in scores) / len(scores)\n",
        "#     avg_rouge2 = sum(s[\"ROUGE\"][\"rouge2\"].fmeasure for s in scores) / len(scores)\n",
        "#     avg_rougeL = sum(s[\"ROUGE\"][\"rougeL\"].fmeasure for s in scores) / len(scores)\n",
        "\n",
        "#     print(f\"\\n🔷 {model} Performance:\")\n",
        "#     print(f\"   🟢 Avg BLEU: {avg_bleu:.4f}\")\n",
        "#     print(f\"   🟢 Avg ROUGE-1: {avg_rouge1:.4f}\")\n",
        "#     print(f\"   🟢 Avg ROUGE-2: {avg_rouge2:.4f}\")\n",
        "#     print(f\"   🟢 Avg ROUGE-L: {avg_rougeL:.4f}\")\n",
        "\n",
        "# Compute and print final evaluation results\n",
        "avg_bleu_rag = sum(bleu_scores[\"RAG\"]) / len(bleu_scores[\"RAG\"])\n",
        "avg_bleu_t5small = sum(bleu_scores[\"t5small\"]) / len(bleu_scores[\"t5small\"])\n",
        "\n",
        "avg_rouge_rag = {key: sum(rouge_scores[\"RAG\"][key]) / len(rouge_scores[\"RAG\"][key]) for key in [\"rouge1\", \"rouge2\", \"rougeL\"]}\n",
        "avg_rouge_t5small = {key: sum(rouge_scores[\"t5small\"][key]) / len(rouge_scores[\"t5small\"][key]) for key in [\"rouge1\", \"rouge2\", \"rougeL\"]}\n",
        "\n",
        "# Print results for RAG model\n",
        "print(\"\\n🔷 RAG Model Performance:\")\n",
        "print(f\"   🟢 Avg BLEU: {avg_bleu_rag:.4f}\")\n",
        "print(f\"   🟢 Avg ROUGE-1: {avg_rouge_rag['rouge1']:.4f}\")\n",
        "print(f\"   🟢 Avg ROUGE-2: {avg_rouge_rag['rouge2']:.4f}\")\n",
        "print(f\"   🟢 Avg ROUGE-L: {avg_rouge_rag['rougeL']:.4f}\")\n",
        "\n",
        "# Print results for T5-small model\n",
        "print(\"\\n🔷 T5-Small Model Performance:\")\n",
        "print(f\"   🟢 Avg BLEU: {avg_bleu_t5small:.4f}\")\n",
        "print(f\"   🟢 Avg ROUGE-1: {avg_rouge_t5small['rouge1']:.4f}\")\n",
        "print(f\"   🟢 Avg ROUGE-2: {avg_rouge_t5small['rouge2']:.4f}\")\n",
        "print(f\"   🟢 Avg ROUGE-L: {avg_rouge_t5small['rougeL']:.4f}\")\n",
        "\n"
      ],
      "metadata": {
        "colab": {
          "base_uri": "https://localhost:8080/"
        },
        "id": "AYIWKji1BeE0",
        "outputId": "862e410a-886d-4309-f10f-36ab14866680"
      },
      "execution_count": 25,
      "outputs": [
        {
          "output_type": "stream",
          "name": "stdout",
          "text": [
            "Processing /content/drive/MyDrive/Colab Notebooks/data/38_1612851.pdf...\n"
          ]
        },
        {
          "output_type": "stream",
          "name": "stderr",
          "text": [
            "Device set to use cpu\n"
          ]
        },
        {
          "output_type": "stream",
          "name": "stdout",
          "text": [
            "Summary: electronic copy available at: https://ssrn.com/abstract=2972855 ENHANCING TECHNOLOGIES (Springer 2012). Electronic copy available . at: http://www.ec.gc.ca/papers/enhancing-technology/index.html .\n"
          ]
        },
        {
          "output_type": "stream",
          "name": "stderr",
          "text": [
            "Device set to use cpu\n",
            "Your max_length is set to 100, but your input_length is only 97. Since this is a summarization task, where outputs shorter than the input are typically wanted, you might consider decreasing max_length manually, e.g. summarizer('...', max_length=48)\n",
            "Your max_length is set to 100, but your input_length is only 80. Since this is a summarization task, where outputs shorter than the input are typically wanted, you might consider decreasing max_length manually, e.g. summarizer('...', max_length=40)\n",
            "Your max_length is set to 100, but your input_length is only 75. Since this is a summarization task, where outputs shorter than the input are typically wanted, you might consider decreasing max_length manually, e.g. summarizer('...', max_length=37)\n",
            "Your max_length is set to 100, but your input_length is only 75. Since this is a summarization task, where outputs shorter than the input are typically wanted, you might consider decreasing max_length manually, e.g. summarizer('...', max_length=37)\n",
            "Your max_length is set to 100, but your input_length is only 69. Since this is a summarization task, where outputs shorter than the input are typically wanted, you might consider decreasing max_length manually, e.g. summarizer('...', max_length=34)\n",
            "Your max_length is set to 100, but your input_length is only 64. Since this is a summarization task, where outputs shorter than the input are typically wanted, you might consider decreasing max_length manually, e.g. summarizer('...', max_length=32)\n",
            "Your max_length is set to 100, but your input_length is only 88. Since this is a summarization task, where outputs shorter than the input are typically wanted, you might consider decreasing max_length manually, e.g. summarizer('...', max_length=44)\n",
            "Your max_length is set to 100, but your input_length is only 86. Since this is a summarization task, where outputs shorter than the input are typically wanted, you might consider decreasing max_length manually, e.g. summarizer('...', max_length=43)\n",
            "Your max_length is set to 100, but your input_length is only 85. Since this is a summarization task, where outputs shorter than the input are typically wanted, you might consider decreasing max_length manually, e.g. summarizer('...', max_length=42)\n",
            "Your max_length is set to 100, but your input_length is only 82. Since this is a summarization task, where outputs shorter than the input are typically wanted, you might consider decreasing max_length manually, e.g. summarizer('...', max_length=41)\n",
            "Your max_length is set to 100, but your input_length is only 77. Since this is a summarization task, where outputs shorter than the input are typically wanted, you might consider decreasing max_length manually, e.g. summarizer('...', max_length=38)\n",
            "Your max_length is set to 100, but your input_length is only 76. Since this is a summarization task, where outputs shorter than the input are typically wanted, you might consider decreasing max_length manually, e.g. summarizer('...', max_length=38)\n",
            "Your max_length is set to 100, but your input_length is only 72. Since this is a summarization task, where outputs shorter than the input are typically wanted, you might consider decreasing max_length manually, e.g. summarizer('...', max_length=36)\n",
            "Your max_length is set to 100, but your input_length is only 84. Since this is a summarization task, where outputs shorter than the input are typically wanted, you might consider decreasing max_length manually, e.g. summarizer('...', max_length=42)\n",
            "Your max_length is set to 100, but your input_length is only 70. Since this is a summarization task, where outputs shorter than the input are typically wanted, you might consider decreasing max_length manually, e.g. summarizer('...', max_length=35)\n",
            "/usr/local/lib/python3.11/dist-packages/nltk/translate/bleu_score.py:577: UserWarning: \n",
            "The hypothesis contains 0 counts of 4-gram overlaps.\n",
            "Therefore the BLEU score evaluates to 0, independently of\n",
            "how many N-gram overlaps of lower order it contains.\n",
            "Consider using lower n-gram order or use SmoothingFunction()\n",
            "  warnings.warn(_msg)\n"
          ]
        },
        {
          "output_type": "stream",
          "name": "stdout",
          "text": [
            "\n",
            "🔷 RAG Model Performance:\n",
            "   🟢 Avg BLEU: 0.0000\n",
            "   🟢 Avg ROUGE-1: 0.1677\n",
            "   🟢 Avg ROUGE-2: 0.1333\n",
            "   🟢 Avg ROUGE-L: 0.1557\n",
            "\n",
            "🔷 T5-Small Model Performance:\n",
            "   🟢 Avg BLEU: 0.0000\n",
            "   🟢 Avg ROUGE-1: 0.2153\n",
            "   🟢 Avg ROUGE-2: 0.0707\n",
            "   🟢 Avg ROUGE-L: 0.1252\n"
          ]
        }
      ]
    },
    {
      "cell_type": "code",
      "source": [
        "# Compute and print final evaluation results\n",
        "avg_bleu_rag = sum(bleu_scores[\"RAG\"]) / len(bleu_scores[\"RAG\"])\n",
        "avg_bleu_t5small = sum(bleu_scores[\"t5small\"]) / len(bleu_scores[\"t5small\"])\n",
        "\n",
        "avg_rouge_rag = {key: sum(rouge_scores[\"RAG\"][key]) / len(rouge_scores[\"RAG\"][key]) for key in [\"rouge1\", \"rouge2\", \"rougeL\"]}\n",
        "avg_rouge_t5small = {key: sum(rouge_scores[\"t5small\"][key]) / len(rouge_scores[\"t5small\"][key]) for key in [\"rouge1\", \"rouge2\", \"rougeL\"]}\n",
        "\n",
        "# Print results for RAG model\n",
        "print(\"\\n🔷 classical RAG Model Performance:\")\n",
        "print(f\"   🟢 Avg BLEU: {avg_bleu_rag:.4f}\")\n",
        "print(f\"   🟢 Avg ROUGE-1: {avg_rouge_rag['rouge1']:.4f}\")\n",
        "print(f\"   🟢 Avg ROUGE-2: {avg_rouge_rag['rouge2']:.4f}\")\n",
        "print(f\"   🟢 Avg ROUGE-L: {avg_rouge_rag['rougeL']:.4f}\")\n",
        "\n",
        "# Print results for T5-small model\n",
        "print(\"\\n🔷 T5-Small Model Performance:\")\n",
        "print(f\"   🟢 Avg BLEU: {avg_bleu_t5small:.4f}\")\n",
        "print(f\"   🟢 Avg ROUGE-1: {avg_rouge_t5small['rouge1']:.4f}\")\n",
        "print(f\"   🟢 Avg ROUGE-2: {avg_rouge_t5small['rouge2']:.4f}\")\n",
        "print(f\"   🟢 Avg ROUGE-L: {avg_rouge_t5small['rougeL']:.4f}\")\n"
      ],
      "metadata": {
        "colab": {
          "base_uri": "https://localhost:8080/"
        },
        "id": "fv4-UPN5byq6",
        "outputId": "0ac5f3bf-f42a-4c07-d11d-054bc1bae5e2"
      },
      "execution_count": 26,
      "outputs": [
        {
          "output_type": "stream",
          "name": "stdout",
          "text": [
            "\n",
            "🔷 classical RAG Model Performance:\n",
            "   🟢 Avg BLEU: 0.0000\n",
            "   🟢 Avg ROUGE-1: 0.1677\n",
            "   🟢 Avg ROUGE-2: 0.1333\n",
            "   🟢 Avg ROUGE-L: 0.1557\n",
            "\n",
            "🔷 T5-Small Model Performance:\n",
            "   🟢 Avg BLEU: 0.0000\n",
            "   🟢 Avg ROUGE-1: 0.2153\n",
            "   🟢 Avg ROUGE-2: 0.0707\n",
            "   🟢 Avg ROUGE-L: 0.1252\n"
          ]
        }
      ]
    },
    {
      "cell_type": "code",
      "source": [
        "import matplotlib.pyplot as plt\n",
        "import numpy as np\n",
        "\n",
        "\n",
        "# Data for BLEU scores\n",
        "models = [\"RAG\", \"T5-Small\"]\n",
        "bleu_scores_avg = [avg_bleu_rag, avg_bleu_t5small]\n",
        "\n",
        "# Convert categorical x-axis to numerical indices\n",
        "x_bleu = np.arange(len(models))\n",
        "width = 0.4\n",
        "\n",
        "# Create BLEU Score Bar Plot\n",
        "fig, ax = plt.subplots(figsize=(8, 5))\n",
        "bars_bleu = ax.bar(x_bleu, bleu_scores_avg, width, color=[\"royalblue\", \"orangered\"], label=\"BLEU Score\")\n",
        "\n",
        "# Labels and title\n",
        "ax.set_xlabel(\"Models\")\n",
        "ax.set_ylabel(\"BLEU Score\")\n",
        "ax.set_title(\"🔹 BLEU Score Comparison (RAG vs. T5-Small)\")\n",
        "ax.set_xticks(x_bleu)\n",
        "ax.set_xticklabels(models)\n",
        "\n",
        "# Display values on bars\n",
        "for bar in bars_bleu:\n",
        "    height = bar.get_height()\n",
        "    ax.annotate(f\"{height:.4f}\",\n",
        "                xy=(bar.get_x() + bar.get_width() / 2, height),\n",
        "                xytext=(0, 3),\n",
        "                textcoords=\"offset points\",\n",
        "                ha='center', va='bottom', fontsize=10)\n",
        "\n",
        "plt.ylim(0, 1)\n",
        "plt.grid(axis=\"y\", linestyle=\"--\", alpha=0.6)\n",
        "plt.legend()\n",
        "plt.show()\n",
        "\n",
        "\n",
        "# Data for ROUGE scores\n",
        "rouge_metrics = [\"ROUGE-1\", \"ROUGE-2\", \"ROUGE-L\"]\n",
        "rag_rouge_scores = [avg_rouge_rag[\"rouge1\"], avg_rouge_rag[\"rouge2\"], avg_rouge_rag[\"rougeL\"]]\n",
        "t5small_rouge_scores = [avg_rouge_t5small[\"rouge1\"], avg_rouge_t5small[\"rouge2\"], avg_rouge_t5small[\"rougeL\"]]\n",
        "\n",
        "x_rouge = np.arange(len(rouge_metrics))\n",
        "\n",
        "# Create ROUGE Score Comparison Plot\n",
        "fig, ax = plt.subplots(figsize=(10, 6))\n",
        "bars1 = ax.bar(x_rouge - width/2, rag_rouge_scores, width, label=\"RAG\", color=\"royalblue\")\n",
        "bars2 = ax.bar(x_rouge + width/2, t5small_rouge_scores, width, label=\"T5-Small\", color=\"darkorange\")\n",
        "\n",
        "# Labels and title\n",
        "ax.set_xlabel(\"ROUGE Metrics\")\n",
        "ax.set_ylabel(\"Score\")\n",
        "ax.set_title(\"🔹 ROUGE Score Comparison (RAG vs. T5-Small)\")\n",
        "ax.set_xticks(x_rouge)\n",
        "ax.set_xticklabels(rouge_metrics)\n",
        "ax.legend()\n",
        "\n",
        "# Display values on bars\n",
        "for bars in [bars1, bars2]:\n",
        "    for bar in bars:\n",
        "        height = bar.get_height()\n",
        "        ax.annotate(f\"{height:.4f}\",\n",
        "                    xy=(bar.get_x() + bar.get_width() / 2, height),\n",
        "                    xytext=(0, 3),\n",
        "                    textcoords=\"offset points\",\n",
        "                    ha='center', va='bottom', fontsize=10)\n",
        "\n",
        "plt.ylim(0, 1)\n",
        "plt.grid(axis=\"y\", linestyle=\"--\", alpha=0.6)\n",
        "\n",
        "# Show the plot\n",
        "plt.show()\n"
      ],
      "metadata": {
        "colab": {
          "base_uri": "https://localhost:8080/",
          "height": 1000
        },
        "id": "G77Banso3ztP",
        "outputId": "0a407e6d-78c8-4e1a-edf5-9c8002b743ed"
      },
      "execution_count": 27,
      "outputs": [
        {
          "output_type": "stream",
          "name": "stderr",
          "text": [
            "/usr/local/lib/python3.11/dist-packages/IPython/core/pylabtools.py:151: UserWarning: Glyph 128313 (\\N{SMALL BLUE DIAMOND}) missing from font(s) DejaVu Sans.\n",
            "  fig.canvas.print_figure(bytes_io, **kw)\n"
          ]
        },
        {
          "output_type": "display_data",
          "data": {
            "text/plain": [
              "<Figure size 800x500 with 1 Axes>"
            ],
            "image/png": "[encoded data removed]"
          },
          "metadata": {}
        },
        {
          "output_type": "stream",
          "name": "stderr",
          "text": [
            "/usr/local/lib/python3.11/dist-packages/IPython/core/pylabtools.py:151: UserWarning: Glyph 128313 (\\N{SMALL BLUE DIAMOND}) missing from font(s) DejaVu Sans.\n",
            "  fig.canvas.print_figure(bytes_io, **kw)\n"
          ]
        },
        {
          "output_type": "display_data",
          "data": {
            "text/plain": [
              "<Figure size 1000x600 with 1 Axes>"
            ],
            "image/png": "[encoded data removed]"
          },
          "metadata": {}
        }
      ]
    },
    {
      "cell_type": "code",
      "source": [
        "# test on many files\n",
        "import os\n",
        "import glob\n",
        "import time\n",
        "import fitz  # PyMuPDF\n",
        "import chromadb\n",
        "from nltk.translate.bleu_score import sentence_bleu\n",
        "from rouge_score import rouge_scorer\n",
        "\n",
        "# Initialize ChromaDB client\n",
        "client = chromadb.PersistentClient(path=\"/content/drive/MyDrive/VectorDB_Embeddings\")\n",
        "collection = client.get_or_create_collection(name='ties_collection_emb', metadata={\"hnsw:space\": \"cosine\"})\n",
        "\n",
        "def rag_query(query):\n",
        "    \"\"\"Retrieves the most relevant document chunks from the vector database.\"\"\"\n",
        "    results = collection.query(query_texts=[query], n_results=3)\n",
        "    if \"documents\" not in results or not results[\"documents\"]:\n",
        "        return []\n",
        "    return results[\"documents\"][0]  # List of relevant chunk texts\n",
        "\n",
        "def extract_text_from_pdf(pdf_path):\n",
        "    \"\"\"Extracts text from a PDF file.\"\"\"\n",
        "    doc = fitz.open(pdf_path)\n",
        "    return \"\\n\".join([page.get_text(\"text\") for page in doc])\n",
        "\n",
        "def extract_abstract(pdf_path):\n",
        "    \"\"\"Extracts the first 1000 characters as the ground truth summary.\"\"\"\n",
        "    text = extract_text_from_pdf(pdf_path)\n",
        "    return text[:1000] if text else \"\"\n",
        "\n",
        "def compute_bleu(reference, candidate):\n",
        "    \"\"\"Computes BLEU score between reference and candidate summaries.\"\"\"\n",
        "    reference_tokens = [reference.split()]\n",
        "    candidate_tokens = candidate.split()\n",
        "    return sentence_bleu(reference_tokens, candidate_tokens)\n",
        "\n",
        "def compute_rouge(reference, candidate):\n",
        "    \"\"\"Computes ROUGE scores.\"\"\"\n",
        "    scorer = rouge_scorer.RougeScorer(['rouge1', 'rouge2', 'rougeL'], use_stemmer=True)\n",
        "    return scorer.score(reference, candidate)\n",
        "\n",
        "# Directory containing PDFs\n",
        "pdf_folder = \"/content/drive/MyDrive/Colab Notebooks/data/\"\n",
        "pdf_files = glob.glob(os.path.join(pdf_folder, \"*.pdf\"))\n",
        "\n",
        "# Dictionaries to store scores\n",
        "bleu_scores = {\"RAG\": [], \"T5-Small\": []}\n",
        "rouge_scores = {\"RAG\": {\"rouge1\": [], \"rouge2\": [], \"rougeL\": []},\n",
        "                \"T5-Small\": {\"rouge1\": [], \"rouge2\": [], \"rougeL\": []}}\n",
        "\n",
        "# Process each PDF file\n",
        "for pdf in pdf_files:\n",
        "    print(f\"\\n🔹 Processing {pdf}...\")\n",
        "\n",
        "    # Extract reference summary\n",
        "    reference_summary = extract_abstract(pdf)\n",
        "    if not reference_summary:\n",
        "        print(f\"⚠️ Skipping {pdf} (no extractable text).\")\n",
        "        continue\n",
        "\n",
        "    # Retrieve document context using RAG\n",
        "    query = \"Summarize this paper in 200 words.\"\n",
        "    retrieved_docs = rag_query(query)\n",
        "    document_text = \" \".join(retrieved_docs) if retrieved_docs else \"\"\n",
        "\n",
        "    # Generate summaries using RAG and T5-Small\n",
        "    rag_summary_text = rag_summary(query, document_text)\n",
        "    t5small_summary_text = t5small_summary(query, document_text)\n",
        "\n",
        "    # Compute BLEU & ROUGE scores\n",
        "    bleu_rag = compute_bleu(reference_summary, rag_summary_text)\n",
        "    rouge_rag = compute_rouge(reference_summary, rag_summary_text)\n",
        "\n",
        "    bleu_t5small = compute_bleu(reference_summary, t5small_summary_text)\n",
        "    rouge_t5small = compute_rouge(reference_summary, t5small_summary_text)\n",
        "\n",
        "    # Store results\n",
        "    bleu_scores[\"RAG\"].append(bleu_rag)\n",
        "    bleu_scores[\"T5-Small\"].append(bleu_t5small)\n",
        "\n",
        "    for key in [\"rouge1\", \"rouge2\", \"rougeL\"]:\n",
        "        rouge_scores[\"RAG\"][key].append(rouge_rag[key].fmeasure)\n",
        "        rouge_scores[\"T5-Small\"][key].append(rouge_t5small[key].fmeasure)\n",
        "\n",
        "    # Pause to avoid rate limits\n",
        "    time.sleep(2)\n",
        "\n",
        "# Compute final average scores\n",
        "avg_bleu_rag = sum(bleu_scores[\"RAG\"]) / len(bleu_scores[\"RAG\"])\n",
        "avg_bleu_t5small = sum(bleu_scores[\"T5-Small\"]) / len(bleu_scores[\"T5-Small\"])\n",
        "\n",
        "avg_rouge_rag = {key: sum(rouge_scores[\"RAG\"][key]) / len(rouge_scores[\"RAG\"][key]) for key in [\"rouge1\", \"rouge2\", \"rougeL\"]}\n",
        "avg_rouge_t5small = {key: sum(rouge_scores[\"T5-Small\"][key]) / len(rouge_scores[\"T5-Small\"][key]) for key in [\"rouge1\", \"rouge2\", \"rougeL\"]}\n",
        "\n",
        "# Print final results\n",
        "print(\"\\n🔷 RAG Model Performance:\")\n",
        "print(f\"   🟢 Avg BLEU: {avg_bleu_rag:.4f}\")\n",
        "print(f\"   🟢 Avg ROUGE-1: {avg_rouge_rag['rouge1']:.4f}\")\n",
        "print(f\"   🟢 Avg ROUGE-2: {avg_rouge_rag['rouge2']:.4f}\")\n",
        "print(f\"   🟢 Avg ROUGE-L: {avg_rouge_rag['rougeL']:.4f}\")\n",
        "\n",
        "print(\"\\n🔷 T5-Small Model Performance:\")\n",
        "print(f\"   🟢 Avg BLEU: {avg_bleu_t5small:.4f}\")\n",
        "print(f\"   🟢 Avg ROUGE-1: {avg_rouge_t5small['rouge1']:.4f}\")\n",
        "print(f\"   🟢 Avg ROUGE-2: {avg_rouge_t5small['rouge2']:.4f}\")\n",
        "print(f\"   🟢 Avg ROUGE-L: {avg_rouge_t5small['rougeL']:.4f}\")\n"
      ],
      "metadata": {
        "colab": {
          "base_uri": "https://localhost:8080/"
        },
        "id": "yE8nK7eh7NBL",
        "outputId": "0a2637f5-918e-49a1-ca87-88b456ddb296"
      },
      "execution_count": 31,
      "outputs": [
        {
          "output_type": "stream",
          "name": "stdout",
          "text": [
            "\n",
            "🔹 Processing /content/drive/MyDrive/Colab Notebooks/data/10_2202843.pdf...\n"
          ]
        },
        {
          "output_type": "stream",
          "name": "stderr",
          "text": [
            "Device set to use cpu\n"
          ]
        },
        {
          "output_type": "stream",
          "name": "stdout",
          "text": [
            "Summary: electronic copy available at: https://ssrn.com/abstract=2972855 ENHANCING TECHNOLOGIES (Springer 2012). e.g., it seems quite possible to view the reference to Article 22 as merely instantiating one form of automated decision making .\n"
          ]
        },
        {
          "output_type": "stream",
          "name": "stderr",
          "text": [
            "Device set to use cpu\n",
            "Your max_length is set to 100, but your input_length is only 69. Since this is a summarization task, where outputs shorter than the input are typically wanted, you might consider decreasing max_length manually, e.g. summarizer('...', max_length=34)\n",
            "Your max_length is set to 100, but your input_length is only 70. Since this is a summarization task, where outputs shorter than the input are typically wanted, you might consider decreasing max_length manually, e.g. summarizer('...', max_length=35)\n",
            "Your max_length is set to 100, but your input_length is only 81. Since this is a summarization task, where outputs shorter than the input are typically wanted, you might consider decreasing max_length manually, e.g. summarizer('...', max_length=40)\n",
            "Your max_length is set to 100, but your input_length is only 93. Since this is a summarization task, where outputs shorter than the input are typically wanted, you might consider decreasing max_length manually, e.g. summarizer('...', max_length=46)\n",
            "Your max_length is set to 100, but your input_length is only 59. Since this is a summarization task, where outputs shorter than the input are typically wanted, you might consider decreasing max_length manually, e.g. summarizer('...', max_length=29)\n",
            "/usr/local/lib/python3.11/dist-packages/nltk/translate/bleu_score.py:577: UserWarning: \n",
            "The hypothesis contains 0 counts of 4-gram overlaps.\n",
            "Therefore the BLEU score evaluates to 0, independently of\n",
            "how many N-gram overlaps of lower order it contains.\n",
            "Consider using lower n-gram order or use SmoothingFunction()\n",
            "  warnings.warn(_msg)\n"
          ]
        },
        {
          "output_type": "stream",
          "name": "stdout",
          "text": [
            "\n",
            "🔹 Processing /content/drive/MyDrive/Colab Notebooks/data/10_2765268.pdf...\n"
          ]
        },
        {
          "output_type": "stream",
          "name": "stderr",
          "text": [
            "Device set to use cpu\n"
          ]
        },
        {
          "output_type": "stream",
          "name": "stdout",
          "text": [
            "Summary: electronic copy available at: https://ssrn.com/abstract=2972855 ENHANCING TECHNOLOGIES (Springer 2012). e.g., it seems quite possible to view the reference to Article 22 as merely instantiating one form of automated decision making .\n"
          ]
        },
        {
          "output_type": "stream",
          "name": "stderr",
          "text": [
            "Device set to use cpu\n",
            "Your max_length is set to 100, but your input_length is only 69. Since this is a summarization task, where outputs shorter than the input are typically wanted, you might consider decreasing max_length manually, e.g. summarizer('...', max_length=34)\n",
            "Your max_length is set to 100, but your input_length is only 70. Since this is a summarization task, where outputs shorter than the input are typically wanted, you might consider decreasing max_length manually, e.g. summarizer('...', max_length=35)\n",
            "Your max_length is set to 100, but your input_length is only 81. Since this is a summarization task, where outputs shorter than the input are typically wanted, you might consider decreasing max_length manually, e.g. summarizer('...', max_length=40)\n",
            "Your max_length is set to 100, but your input_length is only 93. Since this is a summarization task, where outputs shorter than the input are typically wanted, you might consider decreasing max_length manually, e.g. summarizer('...', max_length=46)\n",
            "Your max_length is set to 100, but your input_length is only 59. Since this is a summarization task, where outputs shorter than the input are typically wanted, you might consider decreasing max_length manually, e.g. summarizer('...', max_length=29)\n",
            "/usr/local/lib/python3.11/dist-packages/nltk/translate/bleu_score.py:577: UserWarning: \n",
            "The hypothesis contains 0 counts of 2-gram overlaps.\n",
            "Therefore the BLEU score evaluates to 0, independently of\n",
            "how many N-gram overlaps of lower order it contains.\n",
            "Consider using lower n-gram order or use SmoothingFunction()\n",
            "  warnings.warn(_msg)\n",
            "/usr/local/lib/python3.11/dist-packages/nltk/translate/bleu_score.py:577: UserWarning: \n",
            "The hypothesis contains 0 counts of 3-gram overlaps.\n",
            "Therefore the BLEU score evaluates to 0, independently of\n",
            "how many N-gram overlaps of lower order it contains.\n",
            "Consider using lower n-gram order or use SmoothingFunction()\n",
            "  warnings.warn(_msg)\n"
          ]
        },
        {
          "output_type": "stream",
          "name": "stdout",
          "text": [
            "\n",
            "🔹 Processing /content/drive/MyDrive/Colab Notebooks/data/13_1108671.pdf...\n"
          ]
        },
        {
          "output_type": "stream",
          "name": "stderr",
          "text": [
            "Device set to use cpu\n"
          ]
        },
        {
          "output_type": "stream",
          "name": "stdout",
          "text": [
            "Summary: electronic copy available at: https://ssrn.com/abstract=2972855 ENHANCING TECHNOLOGIES (Springer 2012). e.g., it seems quite possible to view the reference to Article 22 as merely instantiating one form of automated decision making .\n"
          ]
        },
        {
          "output_type": "stream",
          "name": "stderr",
          "text": [
            "Device set to use cpu\n",
            "Your max_length is set to 100, but your input_length is only 69. Since this is a summarization task, where outputs shorter than the input are typically wanted, you might consider decreasing max_length manually, e.g. summarizer('...', max_length=34)\n",
            "Your max_length is set to 100, but your input_length is only 70. Since this is a summarization task, where outputs shorter than the input are typically wanted, you might consider decreasing max_length manually, e.g. summarizer('...', max_length=35)\n",
            "Your max_length is set to 100, but your input_length is only 81. Since this is a summarization task, where outputs shorter than the input are typically wanted, you might consider decreasing max_length manually, e.g. summarizer('...', max_length=40)\n",
            "Your max_length is set to 100, but your input_length is only 93. Since this is a summarization task, where outputs shorter than the input are typically wanted, you might consider decreasing max_length manually, e.g. summarizer('...', max_length=46)\n",
            "Your max_length is set to 100, but your input_length is only 59. Since this is a summarization task, where outputs shorter than the input are typically wanted, you might consider decreasing max_length manually, e.g. summarizer('...', max_length=29)\n"
          ]
        },
        {
          "output_type": "stream",
          "name": "stdout",
          "text": [
            "\n",
            "🔹 Processing /content/drive/MyDrive/Colab Notebooks/data/38_1612851.pdf...\n"
          ]
        },
        {
          "output_type": "stream",
          "name": "stderr",
          "text": [
            "Device set to use cpu\n"
          ]
        },
        {
          "output_type": "stream",
          "name": "stdout",
          "text": [
            "Summary: electronic copy available at: https://ssrn.com/abstract=2972855 ENHANCING TECHNOLOGIES (Springer 2012). e.g., it seems quite possible to view the reference to Article 22 as merely instantiating one form of automated decision making .\n"
          ]
        },
        {
          "output_type": "stream",
          "name": "stderr",
          "text": [
            "Device set to use cpu\n",
            "Your max_length is set to 100, but your input_length is only 69. Since this is a summarization task, where outputs shorter than the input are typically wanted, you might consider decreasing max_length manually, e.g. summarizer('...', max_length=34)\n",
            "Your max_length is set to 100, but your input_length is only 70. Since this is a summarization task, where outputs shorter than the input are typically wanted, you might consider decreasing max_length manually, e.g. summarizer('...', max_length=35)\n",
            "Your max_length is set to 100, but your input_length is only 81. Since this is a summarization task, where outputs shorter than the input are typically wanted, you might consider decreasing max_length manually, e.g. summarizer('...', max_length=40)\n",
            "Your max_length is set to 100, but your input_length is only 93. Since this is a summarization task, where outputs shorter than the input are typically wanted, you might consider decreasing max_length manually, e.g. summarizer('...', max_length=46)\n",
            "Your max_length is set to 100, but your input_length is only 59. Since this is a summarization task, where outputs shorter than the input are typically wanted, you might consider decreasing max_length manually, e.g. summarizer('...', max_length=29)\n"
          ]
        },
        {
          "output_type": "stream",
          "name": "stdout",
          "text": [
            "\n",
            "🔷 RAG Model Performance:\n",
            "   🟢 Avg BLEU: 0.0000\n",
            "   🟢 Avg ROUGE-1: 0.1226\n",
            "   🟢 Avg ROUGE-2: 0.0593\n",
            "   🟢 Avg ROUGE-L: 0.0952\n",
            "\n",
            "🔷 T5-Small Model Performance:\n",
            "   🟢 Avg BLEU: 0.0000\n",
            "   🟢 Avg ROUGE-1: 0.1629\n",
            "   🟢 Avg ROUGE-2: 0.0450\n",
            "   🟢 Avg ROUGE-L: 0.1124\n"
          ]
        }
      ]
    }
  ]
}
